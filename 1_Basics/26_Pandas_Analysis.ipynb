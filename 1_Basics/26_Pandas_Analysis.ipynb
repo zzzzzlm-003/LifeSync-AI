{
  "cells": [
    {
      "cell_type": "markdown",
      "metadata": {
        "id": "01157213"
      },
      "source": [
        "<a target=\"_blank\" href=\"https://colab.research.google.com/github/lukebarousse/Python_Data_Analytics_Course/blob/main/1_Basics/26_Pandas_Analysis.ipynb\">\n",
        "  <img src=\"https://colab.research.google.com/assets/colab-badge.svg\" alt=\"Open In Colab\"/>\n",
        "</a>"
      ]
    },
    {
      "cell_type": "markdown",
      "metadata": {
        "id": "qgGhPvqjpyxp"
      },
      "source": [
        "# Pandas Analysis"
      ]
    },
    {
      "cell_type": "markdown",
      "metadata": {
        "id": "_Zbs7l5BIS2R"
      },
      "source": [
        "Load in the data."
      ]
    },
    {
      "cell_type": "code",
      "execution_count": null,
      "metadata": {
        "id": "qUeyuDXdIS2S"
      },
      "outputs": [],
      "source": [
        "# Install datasets Library (if not already installed)\n",
        "# !pip install -U datasets\n",
        "\n",
        "# Importing Libraries\n",
        "import pandas as pd\n",
        "from datasets import load_dataset\n",
        "\n",
        "# Loading Data\n",
        "dataset = load_dataset('lukebarousse/data_jobs')\n",
        "df = dataset['train'].to_pandas()\n",
        "\n",
        "# Data Cleanup\n",
        "df['job_posted_date'] = pd.to_datetime(df['job_posted_date'])"
      ]
    },
    {
      "cell_type": "markdown",
      "metadata": {
        "id": "XrDeDEVhc6Dl"
      },
      "source": [
        "## Descriptive Statistics"
      ]
    },
    {
      "cell_type": "markdown",
      "metadata": {
        "id": "40qZkmclIS2U"
      },
      "source": [
        "### Describe()\n",
        "\n",
        "#### Notes\n",
        "\n",
        "For a basic overview we'll be using `describe()`.\n",
        "* It gets the following (for columns with numeric data):\n",
        "  * count\n",
        "  * mean\n",
        "  * std\n",
        "  * min\n",
        "  * max\n",
        "* Great for getting a quick overview of the basic stats for the table.\n",
        "* It automatically skips NaN values.\n",
        "\n",
        "#### Example\n",
        "\n",
        "Use `describe()` on our DataFrame."
      ]
    },
    {
      "cell_type": "code",
      "execution_count": null,
      "metadata": {
        "colab": {
          "base_uri": "https://localhost:8080/",
          "height": 300
        },
        "id": "XEnyNsoEdNV9",
        "outputId": "7c9f6cea-8ed6-4d27-fb4c-1716d9f2a03d"
      },
      "outputs": [
        {
          "data": {
            "text/html": [
              "<div>\n",
              "<style scoped>\n",
              "    .dataframe tbody tr th:only-of-type {\n",
              "        vertical-align: middle;\n",
              "    }\n",
              "\n",
              "    .dataframe tbody tr th {\n",
              "        vertical-align: top;\n",
              "    }\n",
              "\n",
              "    .dataframe thead th {\n",
              "        text-align: right;\n",
              "    }\n",
              "</style>\n",
              "<table border=\"1\" class=\"dataframe\">\n",
              "  <thead>\n",
              "    <tr style=\"text-align: right;\">\n",
              "      <th></th>\n",
              "      <th>job_posted_date</th>\n",
              "      <th>salary_year_avg</th>\n",
              "      <th>salary_hour_avg</th>\n",
              "    </tr>\n",
              "  </thead>\n",
              "  <tbody>\n",
              "    <tr>\n",
              "      <th>count</th>\n",
              "      <td>787686</td>\n",
              "      <td>22026.000000</td>\n",
              "      <td>10649.000000</td>\n",
              "    </tr>\n",
              "    <tr>\n",
              "      <th>mean</th>\n",
              "      <td>2023-06-25 00:10:18.590701056</td>\n",
              "      <td>123252.899602</td>\n",
              "      <td>47.009578</td>\n",
              "    </tr>\n",
              "    <tr>\n",
              "      <th>min</th>\n",
              "      <td>2022-12-31 06:01:15</td>\n",
              "      <td>15000.000000</td>\n",
              "      <td>8.000000</td>\n",
              "    </tr>\n",
              "    <tr>\n",
              "      <th>25%</th>\n",
              "      <td>2023-03-19 06:24:00.249999872</td>\n",
              "      <td>90000.000000</td>\n",
              "      <td>27.500000</td>\n",
              "    </tr>\n",
              "    <tr>\n",
              "      <th>50%</th>\n",
              "      <td>2023-06-28 13:03:44.500000</td>\n",
              "      <td>115000.000000</td>\n",
              "      <td>45.965000</td>\n",
              "    </tr>\n",
              "    <tr>\n",
              "      <th>75%</th>\n",
              "      <td>2023-09-26 14:26:56</td>\n",
              "      <td>150000.000000</td>\n",
              "      <td>61.159996</td>\n",
              "    </tr>\n",
              "    <tr>\n",
              "      <th>max</th>\n",
              "      <td>2023-12-31 06:12:38</td>\n",
              "      <td>960000.000000</td>\n",
              "      <td>391.000000</td>\n",
              "    </tr>\n",
              "    <tr>\n",
              "      <th>std</th>\n",
              "      <td>NaN</td>\n",
              "      <td>48322.437693</td>\n",
              "      <td>21.871277</td>\n",
              "    </tr>\n",
              "  </tbody>\n",
              "</table>\n",
              "</div>"
            ],
            "text/plain": [
              "                     job_posted_date  salary_year_avg  salary_hour_avg\n",
              "count                         787686     22026.000000     10649.000000\n",
              "mean   2023-06-25 00:10:18.590701056    123252.899602        47.009578\n",
              "min              2022-12-31 06:01:15     15000.000000         8.000000\n",
              "25%    2023-03-19 06:24:00.249999872     90000.000000        27.500000\n",
              "50%       2023-06-28 13:03:44.500000    115000.000000        45.965000\n",
              "75%              2023-09-26 14:26:56    150000.000000        61.159996\n",
              "max              2023-12-31 06:12:38    960000.000000       391.000000\n",
              "std                              NaN     48322.437693        21.871277"
            ]
          },
          "execution_count": 4,
          "metadata": {},
          "output_type": "execute_result"
        }
      ],
      "source": [
        "df.describe()"
      ]
    },
    {
      "cell_type": "markdown",
      "metadata": {
        "id": "e8WtAAYTIS2W"
      },
      "source": [
        "You can also use it on individual columns. If we just wanted to look at `salary_year_avg` then we'd do:"
      ]
    },
    {
      "cell_type": "code",
      "execution_count": null,
      "metadata": {
        "id": "MQ6GZMYvIS2W",
        "outputId": "e99ba61b-484c-414d-d66e-042e4584cfb7"
      },
      "outputs": [
        {
          "data": {
            "text/plain": [
              "count     22026.000000\n",
              "mean     123252.899602\n",
              "std       48322.437693\n",
              "min       15000.000000\n",
              "25%       90000.000000\n",
              "50%      115000.000000\n",
              "75%      150000.000000\n",
              "max      960000.000000\n",
              "Name: salary_year_avg, dtype: float64"
            ]
          },
          "execution_count": 5,
          "metadata": {},
          "output_type": "execute_result"
        }
      ],
      "source": [
        "df['salary_year_avg'].describe()"
      ]
    },
    {
      "cell_type": "markdown",
      "metadata": {
        "id": "nEro9-_zIS2X"
      },
      "source": [
        "### Common Data Analysis Methods\n",
        "\n",
        "#### Notes\n",
        "\n",
        "But there are other methods like:\n",
        "* `df.sum()` - Sum of values\n",
        "* `df.cumsum()` - Cummulative sum of values\n",
        "* `df.min()`/`df.max()` - Minimum/maximum values\n",
        "* `df.idxmin()`/`df.idxmax()` - Indexes of minimum/Maximum value\n",
        "* `df.mean()` - Mean of values\n",
        "* `df.median()` - Median of values\n",
        "* `df.mode()` - Mode of the values\n",
        "* `series.value_counts()` - Counts of unique values for a Series (aka a column)\n",
        "    * Typically used for counting *unique occurrences* within a single column.\n",
        "    * It's not applicable to an entire DataFrame without specifying a column.\n",
        "* Depending on the method, you can apply it directly to a DataFrame or a Series.\n",
        "\n",
        "#### Examples\n",
        "\n",
        "Let's get the count of the values in each column within the entire DataFrame."
      ]
    },
    {
      "cell_type": "code",
      "execution_count": null,
      "metadata": {
        "id": "5wTqJCzvIS2Y",
        "outputId": "e8e2fe2e-c5b8-4d7c-fccb-a18303f13fb5"
      },
      "outputs": [
        {
          "data": {
            "text/plain": [
              "job_title_short          787686\n",
              "job_title                787685\n",
              "job_location             786646\n",
              "job_via                  787679\n",
              "job_schedule_type        774976\n",
              "job_work_from_home       787686\n",
              "search_location          787686\n",
              "job_posted_date          787686\n",
              "job_no_degree_mention    787686\n",
              "job_health_insurance     787686\n",
              "job_country              787633\n",
              "salary_rate               33073\n",
              "salary_year_avg           22026\n",
              "salary_hour_avg           10649\n",
              "company_name             787668\n",
              "job_skills               670364\n",
              "job_type_skills          670364\n",
              "dtype: int64"
            ]
          },
          "execution_count": 6,
          "metadata": {},
          "output_type": "execute_result"
        }
      ],
      "source": [
        "df.count()"
      ]
    },
    {
      "cell_type": "markdown",
      "metadata": {
        "id": "pcflwsWZIS2Y"
      },
      "source": [
        "This is good to get a general overview of the DataFrame but it isn't that useful to us right now. Let's do some counts on specific columns:"
      ]
    },
    {
      "cell_type": "markdown",
      "metadata": {
        "id": "rHy8RJsgIS2Z"
      },
      "source": [
        "Get the mode of the `'salary_year_avg'` column."
      ]
    },
    {
      "cell_type": "code",
      "execution_count": null,
      "metadata": {
        "id": "d5eIgt_DIS2Z",
        "outputId": "457d8c1b-f0ea-4982-89e1-9f68f85586b2"
      },
      "outputs": [
        {
          "data": {
            "text/plain": [
              "0    90000.0\n",
              "Name: salary_year_avg, dtype: float64"
            ]
          },
          "execution_count": 7,
          "metadata": {},
          "output_type": "execute_result"
        }
      ],
      "source": [
        "df['salary_year_avg'].mode()"
      ]
    },
    {
      "cell_type": "markdown",
      "source": [
        "0 就是这个结果 Series 中的第一行的标签。"
      ],
      "metadata": {
        "id": "ql2r1l99JPST"
      }
    },
    {
      "cell_type": "markdown",
      "source": [
        ".mode(): 众数\n",
        "\n",
        "This is a pandas method that calculates the mode of the selected Series (column). It returns a Series containing the mode(s), as there can be multiple modes if values have the same highest frequency."
      ],
      "metadata": {
        "id": "b9lxifAlI1nv"
      }
    },
    {
      "cell_type": "markdown",
      "metadata": {
        "id": "WOffHineIS2Z"
      },
      "source": [
        "Now we are going to get the index value of the max value of `salary_year_avg`."
      ]
    },
    {
      "cell_type": "code",
      "execution_count": null,
      "metadata": {
        "id": "yOBz66EQIS2a",
        "outputId": "5830cddb-ee29-4aa2-8bc3-b33492b1dbb1"
      },
      "outputs": [
        {
          "data": {
            "text/plain": [
              "752615"
            ]
          },
          "execution_count": 8,
          "metadata": {},
          "output_type": "execute_result"
        }
      ],
      "source": [
        "df['salary_year_avg'].idxmax()"
      ]
    },
    {
      "cell_type": "markdown",
      "metadata": {
        "id": "Ws7PXWPjIS2b"
      },
      "source": [
        "It gave us the index (row) = 357614. Remember how to get a row by the index number? We'll use `iloc` and inspect this.\n",
        "\n",
        "It looks correct based on the maximum value we saw when using `describe()`."
      ]
    },
    {
      "cell_type": "code",
      "execution_count": null,
      "metadata": {
        "id": "rC0Jxu1YIS2b",
        "outputId": "0f029203-e133-4ca1-8217-64dc8bbc148e"
      },
      "outputs": [
        {
          "data": {
            "text/plain": [
              "job_title_short                                     Data Analyst\n",
              "job_title                                           Data Analyst\n",
              "job_location             San José Province, San José, Costa Rica\n",
              "job_via                                     via BeBee Costa Rica\n",
              "job_schedule_type                                      Full-time\n",
              "job_work_from_home                                         False\n",
              "search_location                                       Costa Rica\n",
              "job_posted_date                              2023-06-18 08:22:33\n",
              "job_no_degree_mention                                      False\n",
              "job_health_insurance                                       False\n",
              "job_country                                           Costa Rica\n",
              "salary_rate                                                 None\n",
              "salary_year_avg                                              NaN\n",
              "salary_hour_avg                                              NaN\n",
              "company_name                                           TD SYNNEX\n",
              "job_skills                                ['sql', 'r', 'python']\n",
              "job_type_skills          {'programming': ['sql', 'r', 'python']}\n",
              "Name: 357614, dtype: object"
            ]
          },
          "execution_count": 9,
          "metadata": {},
          "output_type": "execute_result"
        }
      ],
      "source": [
        "df.iloc[357614]"
      ]
    },
    {
      "cell_type": "markdown",
      "metadata": {
        "id": "pXQxdYbBIS2b"
      },
      "source": [
        "How about the *unique* count of job titles?"
      ]
    },
    {
      "cell_type": "code",
      "execution_count": null,
      "metadata": {
        "id": "aXE22UA0IS2c",
        "outputId": "43ad4225-a4a6-464b-9baa-bbe51cfc812d"
      },
      "outputs": [
        {
          "data": {
            "text/plain": [
              "job_title_short\n",
              "Data Analyst                 196593\n",
              "Data Engineer                186678\n",
              "Data Scientist               172727\n",
              "Business Analyst              49160\n",
              "Software Engineer             45019\n",
              "Senior Data Engineer          44692\n",
              "Senior Data Scientist         37076\n",
              "Senior Data Analyst           29289\n",
              "Machine Learning Engineer     14106\n",
              "Cloud Engineer                12346\n",
              "Name: count, dtype: int64"
            ]
          },
          "execution_count": 10,
          "metadata": {},
          "output_type": "execute_result"
        }
      ],
      "source": [
        "df['job_title_short'].value_counts()"
      ]
    },
    {
      "cell_type": "markdown",
      "metadata": {
        "id": "S7zmmNEGIS2d"
      },
      "source": [
        "## Aggregation"
      ]
    },
    {
      "cell_type": "markdown",
      "metadata": {
        "id": "z58jfWHdagCZ"
      },
      "source": [
        "### Groupby()\n",
        "\n",
        "#### Notes\n",
        "\n",
        "* Use `groupby` to group your DataFrame by the unique values in a specific column.\n",
        "* Lets you perform aggregation (e.g. mean, sum) on the grouped data.\n",
        "* Aggregations you can perform:\n",
        "  * `mean()`: Computes the mean of the groups\n",
        "  * `sum()`: Calculates the sum of the group values\n",
        "  * `median()`: Finds the median of each group\n",
        "  * `min()` and `max()`: Determine the minimum and maximum values within each group\n",
        "  * Counts:\n",
        "    * `count()`: Counts the number of non-NA/null entries in each group\n",
        "    * `size()`: Returns the size of each group (including NA/null values)\n",
        "  * `std()` and `var()`: Calculate the standard deviation and variance of groups\n",
        "  * `first()` and `last()`: Get the first and last row of each group\n",
        "  * `unique()`: Counts the number of unique non-NA/null values in each group\n",
        "\n",
        "#### Examples\n",
        "\n",
        "If we want to find the average yearly salary by `job_title_short`."
      ]
    },
    {
      "cell_type": "code",
      "execution_count": null,
      "metadata": {
        "colab": {
          "base_uri": "https://localhost:8080/"
        },
        "id": "0BgX_FzcaQRj",
        "outputId": "afb8dbd7-0516-4a31-c89f-0f8648e2c388"
      },
      "outputs": [
        {
          "data": {
            "text/plain": [
              "job_title_short\n",
              "Business Analyst              91191.520893\n",
              "Cloud Engineer               111268.453846\n",
              "Data Analyst                  93842.560714\n",
              "Data Engineer                130182.584222\n",
              "Data Scientist               136032.019578\n",
              "Machine Learning Engineer    126728.314136\n",
              "Senior Data Analyst          113850.304880\n",
              "Senior Data Engineer         145932.118777\n",
              "Senior Data Scientist        154112.680323\n",
              "Software Engineer            112884.612303\n",
              "Name: salary_year_avg, dtype: float64"
            ]
          },
          "execution_count": 11,
          "metadata": {},
          "output_type": "execute_result"
        }
      ],
      "source": [
        "df.groupby('job_title_short')['salary_year_avg'].mean()"
      ]
    },
    {
      "cell_type": "markdown",
      "metadata": {
        "id": "uA7kZ1_ZIS2f"
      },
      "source": [
        "What about the median of the salary by job title short?"
      ]
    },
    {
      "cell_type": "code",
      "execution_count": null,
      "metadata": {
        "id": "XmwJZY6jIS2f",
        "outputId": "4543d61f-777c-43c8-9ff9-f449d2361a36"
      },
      "outputs": [
        {
          "data": {
            "text/plain": [
              "job_title_short\n",
              "Business Analyst              85000.0\n",
              "Cloud Engineer                90000.0\n",
              "Data Analyst                  90000.0\n",
              "Data Engineer                125000.0\n",
              "Data Scientist               128000.0\n",
              "Machine Learning Engineer    106000.0\n",
              "Senior Data Analyst          111175.0\n",
              "Senior Data Engineer         147500.0\n",
              "Senior Data Scientist        155000.0\n",
              "Software Engineer             99150.0\n",
              "Name: salary_year_avg, dtype: float64"
            ]
          },
          "execution_count": 12,
          "metadata": {},
          "output_type": "execute_result"
        }
      ],
      "source": [
        "df.groupby('job_title_short')['salary_year_avg'].median()"
      ]
    },
    {
      "cell_type": "markdown",
      "metadata": {
        "id": "IeVe5h2aIS2f"
      },
      "source": [
        "### Agg()\n",
        "\n",
        "#### Notes\n",
        "\n",
        "* `agg()` lets you apply multiple functions at once.\n",
        "* You can pass a list of functions to `agg()` to apply them all to the grouped data, or a dictionary to apply specific functions to specific columns.\n",
        "\n",
        "\n",
        "#### Example\n",
        "\n",
        "For each job title (`job_title_short`) let's get the minimum and maximum values for the salary."
      ]
    },
    {
      "cell_type": "code",
      "execution_count": null,
      "metadata": {
        "id": "wxOBfcL0IS2f",
        "outputId": "9faeadd2-07a4-4a5f-851d-37dfc881e3c6"
      },
      "outputs": [
        {
          "data": {
            "text/html": [
              "<div>\n",
              "<style scoped>\n",
              "    .dataframe tbody tr th:only-of-type {\n",
              "        vertical-align: middle;\n",
              "    }\n",
              "\n",
              "    .dataframe tbody tr th {\n",
              "        vertical-align: top;\n",
              "    }\n",
              "\n",
              "    .dataframe thead th {\n",
              "        text-align: right;\n",
              "    }\n",
              "</style>\n",
              "<table border=\"1\" class=\"dataframe\">\n",
              "  <thead>\n",
              "    <tr style=\"text-align: right;\">\n",
              "      <th></th>\n",
              "      <th>min</th>\n",
              "      <th>max</th>\n",
              "    </tr>\n",
              "    <tr>\n",
              "      <th>job_title_short</th>\n",
              "      <th></th>\n",
              "      <th></th>\n",
              "    </tr>\n",
              "  </thead>\n",
              "  <tbody>\n",
              "    <tr>\n",
              "      <th>Business Analyst</th>\n",
              "      <td>16500.0</td>\n",
              "      <td>387460.0</td>\n",
              "    </tr>\n",
              "    <tr>\n",
              "      <th>Cloud Engineer</th>\n",
              "      <td>42000.0</td>\n",
              "      <td>280000.0</td>\n",
              "    </tr>\n",
              "    <tr>\n",
              "      <th>Data Analyst</th>\n",
              "      <td>25000.0</td>\n",
              "      <td>650000.0</td>\n",
              "    </tr>\n",
              "    <tr>\n",
              "      <th>Data Engineer</th>\n",
              "      <td>15000.0</td>\n",
              "      <td>525000.0</td>\n",
              "    </tr>\n",
              "    <tr>\n",
              "      <th>Data Scientist</th>\n",
              "      <td>27000.0</td>\n",
              "      <td>960000.0</td>\n",
              "    </tr>\n",
              "    <tr>\n",
              "      <th>Machine Learning Engineer</th>\n",
              "      <td>30000.0</td>\n",
              "      <td>325000.0</td>\n",
              "    </tr>\n",
              "    <tr>\n",
              "      <th>Senior Data Analyst</th>\n",
              "      <td>30000.0</td>\n",
              "      <td>425000.0</td>\n",
              "    </tr>\n",
              "    <tr>\n",
              "      <th>Senior Data Engineer</th>\n",
              "      <td>35000.0</td>\n",
              "      <td>425000.0</td>\n",
              "    </tr>\n",
              "    <tr>\n",
              "      <th>Senior Data Scientist</th>\n",
              "      <td>45000.0</td>\n",
              "      <td>890000.0</td>\n",
              "    </tr>\n",
              "    <tr>\n",
              "      <th>Software Engineer</th>\n",
              "      <td>28000.0</td>\n",
              "      <td>375000.0</td>\n",
              "    </tr>\n",
              "  </tbody>\n",
              "</table>\n",
              "</div>"
            ],
            "text/plain": [
              "                               min       max\n",
              "job_title_short                             \n",
              "Business Analyst           16500.0  387460.0\n",
              "Cloud Engineer             42000.0  280000.0\n",
              "Data Analyst               25000.0  650000.0\n",
              "Data Engineer              15000.0  525000.0\n",
              "Data Scientist             27000.0  960000.0\n",
              "Machine Learning Engineer  30000.0  325000.0\n",
              "Senior Data Analyst        30000.0  425000.0\n",
              "Senior Data Engineer       35000.0  425000.0\n",
              "Senior Data Scientist      45000.0  890000.0\n",
              "Software Engineer          28000.0  375000.0"
            ]
          },
          "execution_count": 13,
          "metadata": {},
          "output_type": "execute_result"
        }
      ],
      "source": [
        "df.groupby('job_title_short')['salary_year_avg'].agg(['min', 'max'])"
      ]
    }
  ],
  "metadata": {
    "colab": {
      "provenance": []
    },
    "kernelspec": {
      "display_name": "Python 3",
      "name": "python3"
    },
    "language_info": {
      "codemirror_mode": {
        "name": "ipython",
        "version": 3
      },
      "file_extension": ".py",
      "mimetype": "text/x-python",
      "name": "python",
      "nbconvert_exporter": "python",
      "pygments_lexer": "ipython3",
      "version": "3.9.19"
    }
  },
  "nbformat": 4,
  "nbformat_minor": 0
}