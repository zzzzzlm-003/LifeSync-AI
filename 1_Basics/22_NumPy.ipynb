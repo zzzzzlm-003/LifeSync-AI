{
  "cells": [
    {
      "cell_type": "markdown",
      "metadata": {
        "id": "968c1e72"
      },
      "source": [
        "<a target=\"_blank\" href=\"https://colab.research.google.com/github/lukebarousse/Python_Data_Analytics_Course/blob/main/1_Basics/22_NumPy.ipynb\">\n",
        "  <img src=\"https://colab.research.google.com/assets/colab-badge.svg\" alt=\"Open In Colab\"/>\n",
        "</a>"
      ]
    },
    {
      "cell_type": "markdown",
      "metadata": {
        "id": "hto_gSZTKnSA"
      },
      "source": [
        "# NumPy"
      ]
    },
    {
      "cell_type": "markdown",
      "metadata": {
        "id": "_KBS7CRi1u_z"
      },
      "source": [
        "## Notes\n",
        "\n",
        "* NumPy, which stands for Numerical Python, is foundational for numerical computing in Python.\n",
        "* Designed for scientific computation and is used extensively for data analysis because of its ability to handle large, multi-dimensional arrays and matrices efficiently.\n",
        "* Serves as the basis for many other Python data science libraries, including Pandas, due to its speed and efficiency in numerical computations.\n",
        "* A few special use cases for NumPy specifically for data analysis:\n",
        "    * Array operations\n",
        "    * Linear algebra\n",
        "    * Statistical functions\n",
        "    * Random number generation\n",
        "\n",
        "## Importance\n",
        "\n",
        "* Important for data analysis.\n",
        "* Way to store data in a structured format, making it easier to organize, access, and manipulate data.\n",
        "* Pandas library is built on top of NumPy.\n",
        "\n",
        "For more information on NumPy check out the official documentation [here](https://numpy.org/doc/1.26/)."
      ]
    },
    {
      "cell_type": "markdown",
      "metadata": {
        "id": "qPseiZXsKv5-"
      },
      "source": [
        "## Array Operations\n",
        "\n",
        "### Notes\n",
        "* Creation: **`import numpy as np; np.array([1, 2, 3])`**\n",
        "* Basic Operations:  `+`, `-`, `/`, `*` performed element-wise\n",
        "* Slicing: **`array[1:3]`**\n",
        "* Boolean Indexing: **`array[array > 0]`**\n",
        "\n",
        "### Examples\n",
        "\n",
        "Let's start with creating a fictional array with the number of years of experience required for five different data science job listings."
      ]
    },
    {
      "cell_type": "markdown",
      "metadata": {
        "id": "Ro5lL9HJ1u_1"
      },
      "source": [
        "### Create an Array"
      ]
    },
    {
      "cell_type": "code",
      "execution_count": null,
      "metadata": {
        "id": "DWJVoMMo1u_1"
      },
      "outputs": [],
      "source": [
        "# Install package\n",
        "!conda install numpy"
      ]
    },
    {
      "cell_type": "code",
      "execution_count": null,
      "metadata": {
        "id": "8D4N0yoa1u_2"
      },
      "outputs": [],
      "source": [
        "# Import Package\n",
        "import numpy as np"
      ]
    },
    {
      "cell_type": "code",
      "execution_count": null,
      "metadata": {
        "id": "5pGpwDj71u_2"
      },
      "outputs": [],
      "source": [
        "# Example: An array representing the number of years of experience required for three different data science job listings.\n",
        "years_of_experience = np.array([1, 2, 3, 4, 5])"
      ]
    },
    {
      "cell_type": "markdown",
      "metadata": {
        "id": "FsV0aT3v1u_2"
      },
      "source": [
        "### Basic Operations\n",
        "\n",
        "Applying mathematics operations to the entire array."
      ]
    },
    {
      "cell_type": "markdown",
      "metadata": {
        "id": "tE5MAhO81u_3"
      },
      "source": [
        "#### Addition\n",
        "Adding 1 year to the experience requirements for each job listing."
      ]
    },
    {
      "cell_type": "code",
      "execution_count": null,
      "metadata": {
        "id": "g7mvqwAR1u_3",
        "outputId": "077f6279-6f11-4731-e566-54de511fc31f"
      },
      "outputs": [
        {
          "data": {
            "text/plain": [
              "array([2, 3, 4, 5, 6])"
            ]
          },
          "execution_count": 4,
          "metadata": {},
          "output_type": "execute_result"
        }
      ],
      "source": [
        "years_of_experience_plus_one = years_of_experience + 1\n",
        "years_of_experience_plus_one"
      ]
    },
    {
      "cell_type": "markdown",
      "metadata": {
        "id": "k9K5xInV1u_5"
      },
      "source": [
        "#### Subtraction\n",
        "\n",
        "Subtracting 1 year from the experience requirements for each job listing."
      ]
    },
    {
      "cell_type": "code",
      "execution_count": null,
      "metadata": {
        "id": "IB57EP-b1u_5",
        "outputId": "9022efbb-7113-47d9-b721-69148886f411"
      },
      "outputs": [
        {
          "data": {
            "text/plain": [
              "array([0, 1, 2, 3, 4])"
            ]
          },
          "execution_count": 5,
          "metadata": {},
          "output_type": "execute_result"
        }
      ],
      "source": [
        "years_of_experience_minus_one = years_of_experience - 1\n",
        "years_of_experience_minus_one"
      ]
    },
    {
      "cell_type": "markdown",
      "metadata": {
        "id": "SwFebDmT1u_6"
      },
      "source": [
        "#### Division\n",
        "\n",
        "Dividing the experience requirements by 2 (maybe for a junior role)."
      ]
    },
    {
      "cell_type": "code",
      "execution_count": null,
      "metadata": {
        "id": "fx_leHCS1u_6",
        "outputId": "e1202f62-bebd-4290-c44c-74a3c192751c"
      },
      "outputs": [
        {
          "data": {
            "text/plain": [
              "array([0.5, 1. , 1.5, 2. , 2.5])"
            ]
          },
          "execution_count": 6,
          "metadata": {},
          "output_type": "execute_result"
        }
      ],
      "source": [
        "years_of_experience_half = years_of_experience / 2\n",
        "years_of_experience_half"
      ]
    },
    {
      "cell_type": "markdown",
      "metadata": {
        "id": "KTZSaWcq1u_6"
      },
      "source": [
        "#### Multiplication\n",
        "\n",
        "Doubling the experience requirements for each job listing."
      ]
    },
    {
      "cell_type": "code",
      "execution_count": null,
      "metadata": {
        "id": "3WDnAouu1u_7",
        "outputId": "ab97596a-3d25-427d-9ce4-84d96dfc9caa"
      },
      "outputs": [
        {
          "data": {
            "text/plain": [
              "array([ 2,  4,  6,  8, 10])"
            ]
          },
          "execution_count": 7,
          "metadata": {},
          "output_type": "execute_result"
        }
      ],
      "source": [
        "years_of_experience_double = years_of_experience * 2\n",
        "years_of_experience_double"
      ]
    },
    {
      "cell_type": "markdown",
      "metadata": {
        "id": "uZ8bbV261u_7"
      },
      "source": [
        "### Slicing\n",
        "\n",
        "Get subset of information from the array. Let's get the experience requirements for the second and third job postings."
      ]
    },
    {
      "cell_type": "code",
      "execution_count": null,
      "metadata": {
        "id": "61rX2Pcv1u_7",
        "outputId": "a5d94eb9-135c-490d-f467-05c49a49a266"
      },
      "outputs": [
        {
          "data": {
            "text/plain": [
              "array([2, 3])"
            ]
          },
          "execution_count": 4,
          "metadata": {},
          "output_type": "execute_result"
        }
      ],
      "source": [
        "# Example: Selecting the experience requirement for the second and third job listings.\n",
        "second_and_third_jobs_experience = years_of_experience[1:3]\n",
        "second_and_third_jobs_experience"
      ]
    },
    {
      "cell_type": "markdown",
      "metadata": {
        "id": "iP2BjnC31u_8"
      },
      "source": [
        "### Boolean Indexing\n",
        "\n",
        "Get items from the array that meet a specific condition. For this get only the job postings that require more than 2 years of experience."
      ]
    },
    {
      "cell_type": "code",
      "execution_count": null,
      "metadata": {
        "id": "pkmXJeQA1u_8",
        "outputId": "ea0b7020-79e3-40dc-c4e7-4faa3ebae029"
      },
      "outputs": [
        {
          "data": {
            "text/plain": [
              "array([3, 4, 5])"
            ]
          },
          "execution_count": 5,
          "metadata": {},
          "output_type": "execute_result"
        }
      ],
      "source": [
        "# Example: Selecting only those job listings that require more than 1 year of experience.\n",
        "jobs_with_more_than_one_year_exp = years_of_experience[years_of_experience > 2]\n",
        "jobs_with_more_than_one_year_exp"
      ]
    },
    {
      "cell_type": "markdown",
      "metadata": {
        "id": "jCmPO2FpKxLC"
      },
      "source": [
        "## Math Operations\n",
        "\n",
        "### Notes\n",
        "\n",
        "* Aggregate functions:\n",
        "    * `sum`: sum\n",
        "    * `prod`: product\n",
        "    * `cumsum`: cumulative sum\n",
        "    * `cumprod`: cumulative product\n",
        "* Mathematical operations (we won't be going into this during the course):\n",
        "    * `sqrt`\n",
        "    * `exp`\n",
        "    * `log`\n",
        "    * `sin`\n",
        "    * `cos`\n",
        "\n",
        "### Examples\n",
        "\n",
        "First lets create a list with 10 yearly salaries for a Senior Data Analyst job. We're just using a combination of the `random` library to get random integers between 100000 and 150000. Then using a `for` loop to get 10 (random) values."
      ]
    },
    {
      "cell_type": "markdown",
      "source": [
        "### 1\\. `np.cumsum()`: Cumulative Sum\n",
        "\n",
        "  * **What it does:** Calculates the **running total** of the elements as it iterates through the array. It returns a new array of the same size. The element at each position is the sum of all preceding elements, including itself.\n",
        "  * **Analogy:** Imagine tracking your daily steps. `np.cumsum()` would give you a new list where each number represents your **total steps up to that day**.\n",
        "  * **Example:**\n",
        "    ```python\n",
        "    import numpy as np\n",
        "\n",
        "    arr = np.array([1, 2, 3, 4])\n",
        "    cumulative_sum = np.cumsum(arr)\n",
        "    print(cumulative_sum)\n",
        "    # Output: [ 1  3  6 10]\n",
        "    # (1), (1+2), (1+2+3), (1+2+3+4)\n",
        "    ```\n",
        "\n",
        "-----\n",
        "\n",
        "### 2\\. `np.cumprod()`: Cumulative Product\n",
        "\n",
        "  * **What it does:** Calculates the **running product** of the elements. Like `np.cumsum()`, it returns a new array of the same size, where each element is the product of all preceding elements.\n",
        "  * **Analogy:** Imagine a chain reaction where each step's outcome is multiplied by the previous step's outcome. `np.cumprod()` shows you the product at each step of the reaction.\n",
        "  * **Example:**\n",
        "    ```python\n",
        "    import numpy as np\n",
        "\n",
        "    arr = np.array([1, 2, 3, 4])\n",
        "    cumulative_product = np.cumprod(arr)\n",
        "    print(cumulative_product)\n",
        "    # Output: [ 1  2  6 24]\n",
        "    # (1), (1*2), (1*2*3), (1*2*3*4)\n",
        "    ```"
      ],
      "metadata": {
        "id": "2u8RKsxT1yW7"
      }
    },
    {
      "cell_type": "code",
      "execution_count": null,
      "metadata": {
        "id": "6sFprf5E1u_9"
      },
      "outputs": [],
      "source": [
        "import random\n",
        "\n",
        "salary = [random.randint(100000, 150000) for num in range(10)]"
      ]
    },
    {
      "cell_type": "code",
      "execution_count": null,
      "metadata": {
        "id": "R5JBiTo81u_9",
        "outputId": "c29ce5fb-5f5f-4bb6-f234-28b9110e0059"
      },
      "outputs": [
        {
          "data": {
            "text/plain": [
              "[111298,\n",
              " 110003,\n",
              " 103540,\n",
              " 116494,\n",
              " 120441,\n",
              " 149248,\n",
              " 107357,\n",
              " 141818,\n",
              " 102895,\n",
              " 139437]"
            ]
          },
          "execution_count": 7,
          "metadata": {},
          "output_type": "execute_result"
        }
      ],
      "source": [
        "salary"
      ]
    },
    {
      "cell_type": "markdown",
      "metadata": {
        "id": "tb0xJXxO1u_9"
      },
      "source": [
        "Now we'll convert this list into a NumPy array."
      ]
    },
    {
      "cell_type": "code",
      "execution_count": null,
      "metadata": {
        "id": "DYKw71be1u_9",
        "outputId": "0fc44151-0ee9-4c67-ce9f-29aa8d7f650c"
      },
      "outputs": [
        {
          "data": {
            "text/plain": [
              "array([111298, 110003, 103540, 116494, 120441, 149248, 107357, 141818,\n",
              "       102895, 139437])"
            ]
          },
          "execution_count": 8,
          "metadata": {},
          "output_type": "execute_result"
        }
      ],
      "source": [
        "salary_array = np.array(salary)\n",
        "salary_array"
      ]
    },
    {
      "cell_type": "markdown",
      "metadata": {
        "id": "uOKyuL1n1u_-"
      },
      "source": [
        "### Sum\n",
        "\n",
        "Calculate the total sum of the elements in the `salary_array`."
      ]
    },
    {
      "cell_type": "code",
      "execution_count": null,
      "metadata": {
        "id": "_koI1bb31u_-",
        "outputId": "56f4f609-77d2-4aa3-8146-8d19a4cbd073"
      },
      "outputs": [
        {
          "data": {
            "text/plain": [
              "1202531"
            ]
          },
          "execution_count": 9,
          "metadata": {},
          "output_type": "execute_result"
        }
      ],
      "source": [
        "total_sum_salaries = np.sum(salary_array)\n",
        "total_sum_salaries"
      ]
    },
    {
      "cell_type": "markdown",
      "metadata": {
        "id": "fWpYHAkV1u__"
      },
      "source": [
        "### Prod\n",
        "\n",
        "Calculate the product of the elements in the `salary_array`."
      ]
    },
    {
      "cell_type": "code",
      "execution_count": null,
      "metadata": {
        "id": "SpV2va6g1u__",
        "outputId": "8c4fba0a-da66-46a8-9503-550546870e5a"
      },
      "outputs": [
        {
          "data": {
            "text/plain": [
              "-2136956928"
            ]
          },
          "execution_count": 10,
          "metadata": {},
          "output_type": "execute_result"
        }
      ],
      "source": [
        "# This is a conceptual example since taking the product of a boolean series isn't common\n",
        "product_salaries = np.prod(salary_array)\n",
        "product_salaries"
      ]
    },
    {
      "cell_type": "markdown",
      "metadata": {
        "id": "B7nq1B4H1u__"
      },
      "source": [
        "### Cumsum (Cumulative Sum)\n",
        "\n",
        "Calculates the cumulative sum of elements of the `salary_array`. It calculates the cumulative sum at each index, meaning each element in the output array is the sum of all preceding elements including the current one from the original array.\n",
        "\n",
        "For the `salary_array`:\n",
        "\n",
        "* First element of cumsum is 110003 (just the first element)\n",
        "* Second element is 110003 + 133394 = 243397\n",
        "* Third element is 243397 + 148741 = 392138\n",
        "* And so on..."
      ]
    },
    {
      "cell_type": "code",
      "execution_count": null,
      "metadata": {
        "id": "8B75OM101u__",
        "outputId": "1e3a40f2-81fb-4062-da86-476233c79b03"
      },
      "outputs": [
        {
          "data": {
            "text/plain": [
              "array([ 111298,  221301,  324841,  441335,  561776,  711024,  818381,\n",
              "        960199, 1063094, 1202531])"
            ]
          },
          "execution_count": 11,
          "metadata": {},
          "output_type": "execute_result"
        }
      ],
      "source": [
        "cumulative_sum_salaries = np.cumsum(salary_array)\n",
        "cumulative_sum_salaries"
      ]
    },
    {
      "cell_type": "markdown",
      "metadata": {
        "id": "P7eVnKHl1vAA"
      },
      "source": [
        "### Cumprod (Cumulative Product)\n",
        "\n",
        "Calculates the cumulative product of elements of the `salary_array`. It calculates the cumulative product at each index, meaning each element in the output array is the product of all preceding elements including the current one from the original array.\n",
        "\n",
        "For the `salary_array`:\n",
        "\n",
        "* First element of cumprod is 110003\n",
        "* Second element is 110003 * 133394\n",
        "* Third element is (110003 * 133394) * 148741\n",
        "* And so on..."
      ]
    },
    {
      "cell_type": "code",
      "execution_count": null,
      "metadata": {
        "id": "zFhUfcCi1vAA",
        "outputId": "47121341-929a-4444-cd73-c54b74902a86"
      },
      "outputs": [
        {
          "data": {
            "text/plain": [
              "array([     111298,  -641787994,  1005104952,  -702145264,   828316816,\n",
              "       -1710493696, -2144980992, -1560616960,   555163648, -2136956928])"
            ]
          },
          "execution_count": 12,
          "metadata": {},
          "output_type": "execute_result"
        }
      ],
      "source": [
        "# Cumulative product of 'job_no_degree_mention' column (conceptual example)\n",
        "cumulative_prod_salaries = np.cumprod(salary_array)\n",
        "cumulative_prod_salaries"
      ]
    },
    {
      "cell_type": "markdown",
      "metadata": {
        "id": "cobsptb51vAB"
      },
      "source": [
        "**Note**: Due to the large numbers, the cumulative product values quickly escalate to the point where they exceed the numerical limit for typical data types in Python, leading to integer overflow. This is why some numbers appear as negative."
      ]
    },
    {
      "cell_type": "markdown",
      "metadata": {
        "id": "75hqgHJ7Kyqj"
      },
      "source": [
        "## Statistics Operations\n",
        "\n",
        "### Notes\n",
        "\n",
        "A lot of these you can also use Pandas because Pandas is built on top of NumPy. So here's a few examples but we won't be diving deep into them.\n",
        "\n",
        "* `mean`\n",
        "* `median`\n",
        "* `var`: variance\n",
        "* `std`: standard deviation\n",
        "* `min`\n",
        "* `max`"
      ]
    },
    {
      "cell_type": "markdown",
      "metadata": {
        "id": "TGNxBgfO1vAC"
      },
      "source": [
        "### Mean\n",
        "\n",
        "Calculate the average salary in the `salary_array`."
      ]
    },
    {
      "cell_type": "code",
      "execution_count": null,
      "metadata": {
        "id": "bxC9W3A_1vAC",
        "outputId": "97f83eae-86cb-40b9-96a4-e253f2761bc2"
      },
      "outputs": [
        {
          "data": {
            "text/plain": [
              "120253.1"
            ]
          },
          "execution_count": 13,
          "metadata": {},
          "output_type": "execute_result"
        }
      ],
      "source": [
        "average_salary = np.mean(salary_array)\n",
        "average_salary"
      ]
    },
    {
      "cell_type": "markdown",
      "metadata": {
        "id": "7gD6vBWq1vAC"
      },
      "source": [
        "### Median\n",
        "\n",
        "Find the median salary in the `salary_array`."
      ]
    },
    {
      "cell_type": "code",
      "execution_count": null,
      "metadata": {
        "id": "UTEjk7GH1vAJ",
        "outputId": "3a810016-f284-4b31-eb52-e2bbd85c9ccc"
      },
      "outputs": [
        {
          "data": {
            "text/plain": [
              "113896.0"
            ]
          },
          "execution_count": 14,
          "metadata": {},
          "output_type": "execute_result"
        }
      ],
      "source": [
        "median_salary = np.median(salary_array)\n",
        "median_salary"
      ]
    },
    {
      "cell_type": "markdown",
      "metadata": {
        "id": "gC_qf3hM1vAK"
      },
      "source": [
        "### Var\n",
        "\n",
        "Calculate the variance of the `salary_array`."
      ]
    },
    {
      "cell_type": "code",
      "execution_count": null,
      "metadata": {
        "id": "lJpm-1Ud1vAK",
        "outputId": "186558ad-095f-423e-984e-f79343390183"
      },
      "outputs": [
        {
          "data": {
            "text/plain": [
              "291126267.21111107"
            ]
          },
          "execution_count": 15,
          "metadata": {},
          "output_type": "execute_result"
        }
      ],
      "source": [
        "salary_variance = np.var(salary_array, ddof=1)  # ddof=1 for sample variance\n",
        "salary_variance"
      ]
    },
    {
      "cell_type": "markdown",
      "metadata": {
        "id": "EOyzNuoo1vAK"
      },
      "source": [
        "### Std\n",
        "\n",
        "Calculate the standard deviation of the `salary_array`."
      ]
    },
    {
      "cell_type": "code",
      "execution_count": null,
      "metadata": {
        "id": "RI4OSuhp1vAK",
        "outputId": "31e55c8f-9f78-4080-80bf-08ab2b47fd63"
      },
      "outputs": [
        {
          "data": {
            "text/plain": [
              "17062.42266535181"
            ]
          },
          "execution_count": 16,
          "metadata": {},
          "output_type": "execute_result"
        }
      ],
      "source": [
        "# Standard deviation of 'salary_year_avg' column\n",
        "salary_std_dev = np.std(salary_array, ddof=1)  # ddof=1 for sample standard deviation\n",
        "salary_std_dev"
      ]
    },
    {
      "cell_type": "markdown",
      "metadata": {
        "id": "QZWnvfsM1vAL"
      },
      "source": [
        "### Min\n",
        "\n",
        "Find the minimum element in the `salary_array`."
      ]
    },
    {
      "cell_type": "code",
      "execution_count": null,
      "metadata": {
        "id": "xtFWlCPr1vAL",
        "outputId": "1e8bb95b-acab-4702-f6b9-f72081c4737f"
      },
      "outputs": [
        {
          "data": {
            "text/plain": [
              "102895"
            ]
          },
          "execution_count": 17,
          "metadata": {},
          "output_type": "execute_result"
        }
      ],
      "source": [
        "# Minimum of 'salary_year_avg' column\n",
        "min_salary = np.min(salary_array)\n",
        "min_salary"
      ]
    },
    {
      "cell_type": "markdown",
      "metadata": {
        "id": "FhzrSFHq1vAL"
      },
      "source": [
        "### Max\n",
        "\n",
        "Find the maximum element in the `salary_array`."
      ]
    },
    {
      "cell_type": "code",
      "execution_count": null,
      "metadata": {
        "id": "Xu8kgCXJ1vAL",
        "outputId": "a5730594-39b0-4af0-ea5b-2a6c14bfd73c"
      },
      "outputs": [
        {
          "data": {
            "text/plain": [
              "149248"
            ]
          },
          "execution_count": 18,
          "metadata": {},
          "output_type": "execute_result"
        }
      ],
      "source": [
        "# Maximum of 'salary_year_avg' column\n",
        "max_salary = np.max(salary_array)\n",
        "max_salary"
      ]
    },
    {
      "cell_type": "markdown",
      "metadata": {
        "id": "tvAgsRdkK0zi"
      },
      "source": [
        "## NaN\n",
        "\n",
        "\n",
        "### Notes\n",
        "\n",
        "* Generate NaN values using `np.nan`\n",
        "* `np.nan` value is used in NumPy (and by extension, Pandas) to represent missing or undefined data\n",
        "* Helpful because it:\n",
        "    * Handles missing data.\n",
        "    * Helps with computations since it won't return errors but instead return `np.nan`.\n",
        "    * Help filter out or fill in missing data using other methods that we'll use often in the `pandas` library like `dropna()`, `fillna()`, `isna()`, or `notna()`.\n",
        "\n",
        "### Examples\n",
        "\n",
        "Below are a few examples of what you can do."
      ]
    },
    {
      "cell_type": "markdown",
      "source": [
        "### `np.nan` 是什么？\n",
        "\n",
        "在 NumPy 中，`np.nan` 是一个**特殊的浮点数值**，它代表 \"**Not a Number**\"，意思是“不是一个数”。\n",
        "\n",
        "它主要用来处理**缺失数据**或**无效计算结果**。当你需要一个占位符来表示某个位置的数据缺失时，`np.nan` 就是首选。\n",
        "\n",
        "### 如何使用 `np.nan`\n",
        "\n",
        "你可以像使用任何普通数字一样，直接在 NumPy 数组中使用 `np.nan`。\n",
        "\n",
        "**1. 创建一个包含 `NaN` 的新数组**\n",
        "\n",
        "你可以直接在创建数组时将 `NaN` 作为元素填入。\n",
        "\n",
        "```python\n",
        "import numpy as np\n",
        "\n",
        "# 创建一个一维数组，其中包含一个 NaN 值\n",
        "data_1d = np.array([1, 2, np.nan, 4, 5])\n",
        "print(data_1d)\n",
        "\n",
        "# 创建一个二维数组，在特定位置填充 NaN\n",
        "data_2d = np.array([[1, 2], [3, np.nan]])\n",
        "print(data_2d)\n",
        "```\n",
        "\n",
        "**运行结果：**\n",
        "\n",
        "```\n",
        "[ 1.  2. nan  4.  5.]\n",
        "[[ 1.  2.]\n",
        " [ 3. nan]]\n",
        "```\n",
        "\n",
        "**注意：** 当你把 `NaN` 放入一个整型数组时，NumPy 会自动将整个数组的数据类型转换为浮点型（`float64`），因为 `NaN` 本身是一个浮点数。\n",
        "\n",
        "**2. 将现有数组中的值替换为 `NaN`**\n",
        "\n",
        "当你需要将数组中满足某个条件的元素替换为 `NaN` 时，这非常有用。\n",
        "\n",
        "比如，你想把数组中所有小于 `0` 的值都变成 `NaN`。\n",
        "\n",
        "```python\n",
        "import numpy as np\n",
        "\n",
        "# 创建一个包含负数的数组\n",
        "arr = np.array([-1, 2, -3, 4, 5])\n",
        "\n",
        "# 使用布尔索引，将小于0的元素替换为NaN\n",
        "arr[arr < 0] = np.nan\n",
        "print(arr)\n",
        "```\n",
        "\n",
        "**运行结果：**\n",
        "\n",
        "```\n",
        "[nan  2. nan  4.  5.]\n",
        "```\n",
        "\n",
        "### `np.nan` 与 `None` 的区别\n",
        "\n",
        "很多人会把 `np.nan` 和 Python 内置的 `None` 搞混，它们是有区别的：\n",
        "\n",
        "  * **`np.nan`** 是**数值类型**的缺失值，用于 NumPy 数组和 Pandas Series/DataFrame。\n",
        "  * **`None`** 是 Python 的**对象类型**，表示一个变量没有值。它不能用于数值计算，并且会改变数组的数据类型。\n",
        "\n",
        "**示例：**\n",
        "\n",
        "```python\n",
        "import numpy as np\n",
        "\n",
        "# 创建一个包含 None 的数组\n",
        "arr_with_none = np.array([1, 2, None, 4])\n",
        "print(arr_with_none)\n",
        "```\n",
        "\n",
        "**运行结果：**\n",
        "\n",
        "```\n",
        "[1 2 None 4]\n",
        "```\n",
        "\n",
        "你会发现，这个数组的数据类型变成了 `object`，这在进行数值运算时会很麻烦。而 `np.nan` 则保持了浮点数类型，可以继续进行很多 NumPy 运算（虽然结果可能是 `NaN`）。\n",
        "\n",
        "### 总结\n",
        "\n",
        "`np.nan` 是 NumPy 中用来表示**数值型缺失数据**的利器。它是一个浮点数，可以轻松地集成到 NumPy 数组中，并且方便你进行后续的数据处理和分析，例如使用 `np.isnan()` 来检查和处理这些缺失值。"
      ],
      "metadata": {
        "id": "-amYeCAT_f4l"
      }
    },
    {
      "cell_type": "markdown",
      "metadata": {
        "id": "VQsOPOVV1vAM"
      },
      "source": [
        "#### Insert Missing Values\n",
        "\n",
        "If you want to insert missing values into your array intentionally, perhaps to indicate that data is expected but not yet available. You use `np.nan`."
      ]
    },
    {
      "cell_type": "code",
      "execution_count": null,
      "metadata": {
        "id": "HQUMGVUU1vAM",
        "outputId": "0ce3d8d3-4dca-4f78-937c-4b5df6fdffe6"
      },
      "outputs": [
        {
          "data": {
            "text/plain": [
              "array([123124.,     nan, 145000., 128000., 110000., 149999.,     nan,\n",
              "       135000., 115000., 140000.])"
            ]
          },
          "execution_count": 19,
          "metadata": {},
          "output_type": "execute_result"
        }
      ],
      "source": [
        "salary_with_nan = np.array([123124, np.nan, 145000, 128000, 110000, 149999, np.nan, 135000, 115000, 140000], dtype=float)\n",
        "salary_with_nan"
      ]
    },
    {
      "cell_type": "markdown",
      "metadata": {
        "id": "ohZt7kKV1vAM"
      },
      "source": [
        "#### Replace Values with NaN\n",
        "\n",
        "If you want to replace existing values with `np.nan`, for example, if certain values are considered invalid or outliers:"
      ]
    },
    {
      "cell_type": "code",
      "execution_count": null,
      "metadata": {
        "id": "JK4wdVvw1vAM",
        "outputId": "c555baed-c3ea-4318-f0f1-026879b9be3c"
      },
      "outputs": [
        {
          "data": {
            "text/plain": [
              "array([    nan,     nan, 145000.,     nan,     nan, 149999.,     nan,\n",
              "       135000.,     nan, 140000.])"
            ]
          },
          "execution_count": 20,
          "metadata": {},
          "output_type": "execute_result"
        }
      ],
      "source": [
        "salary_with_nan[salary_with_nan < 130000] = np.nan\n",
        "salary_with_nan"
      ]
    },
    {
      "cell_type": "markdown",
      "metadata": {
        "id": "Ppq5pdnd1vAN"
      },
      "source": [
        "## Where\n",
        "\n",
        "### Notes\n",
        "\n",
        "* `np.where` check elements of an array against a condition and to assign a value for True and another for false.\n",
        "* Syntax: `np.where(condition)`.\n",
        "* It's commonly used to conditionally replace array elements.\n",
        "\n",
        "### Example\n",
        "\n",
        "We're going to replace all values in `salary_array` that are less than 120,000 with 120,000 (to apply a minimum salary threshold). We'll use this syntax for it: `np.where(condition, x, y)`. With a `condition` and if it's true we do `x` and if not then do `y`."
      ]
    },
    {
      "cell_type": "code",
      "execution_count": null,
      "metadata": {
        "id": "xrKOXvIs1vAN",
        "outputId": "cfcf0c6f-588d-498d-be94-7b3834db1742"
      },
      "outputs": [
        {
          "data": {
            "text/plain": [
              "array([120000, 120000, 120000, 120000, 120441, 149248, 120000, 141818,\n",
              "       120000, 139437])"
            ]
          },
          "execution_count": 21,
          "metadata": {},
          "output_type": "execute_result"
        }
      ],
      "source": [
        "# Replace values using np.where\n",
        "salary_array = np.where(salary_array < 120000, 120000, salary_array)\n",
        "salary_array"
      ]
    },
    {
      "cell_type": "markdown",
      "metadata": {
        "id": "mhw4Zs121vAO"
      },
      "source": [
        "## Random Sampling\n",
        "\n",
        "### Notes\n",
        "* Generate a random numbers or samples.\n",
        "* `np.random.normal` - draws random samples from a normal (Gaussian) distribution.\n",
        "    * Specify the Arguments:\n",
        "        * `loc`: This is the mean (`μ`) of the normal distribution.\n",
        "        * `scale`: This is the standard deviation (`σ`) of the normal distribution, representing the dispersion from the mean.\n",
        "        * `size`: This defines the number of random samples to draw, which is set to match the number of job postings.\n",
        "    * Syntax: `np.random.normal(loc=0.0, scale=1.0, size=None)`\n",
        "* A few other random sampling functions:\n",
        "    * `np.random.rand`\n",
        "    * `np.random.randn`\n",
        "    * `np.random.randint`\n",
        "    * `np.random.random`\n",
        "    * `np.random.uniform`\n",
        "    * `np.random.binomial`\n",
        "    * `np.random.poisson`\n",
        "\n",
        "### Example\n",
        "\n",
        "Let's add some random noise to the `salary_array` to simulate salary variations. We can generate random values from a normal distribution with a mean of 0 and a standard deviation of 5000, then add these values to the salaries.\n",
        "\n",
        "**Why?** This can be used to simulate salary data for job postings if actual salary data isn't available, for instance, in modeling or simulation scenarios."
      ]
    },
    {
      "cell_type": "code",
      "execution_count": null,
      "metadata": {
        "id": "r6DOaMEB1vAP",
        "outputId": "dd0b25e2-67a9-40f5-ae23-772480f147aa"
      },
      "outputs": [
        {
          "data": {
            "text/plain": [
              "array([124219.08195846, 131116.06759323, 119455.49265214, 122182.62053755,\n",
              "       118818.2917239 , 151255.86681034, 130457.25819974, 143396.35776544,\n",
              "       120961.92775885, 130976.31025803])"
            ]
          },
          "execution_count": 22,
          "metadata": {},
          "output_type": "execute_result"
        }
      ],
      "source": [
        "# Generate numbers based on normal distribution\n",
        "noise = np.random.normal(0, 5000, salary_array.size)\n",
        "# Add these numbers to the salary_array\n",
        "salary_array_with_noise = salary_array + noise\n",
        "salary_array_with_noise"
      ]
    }
  ],
  "metadata": {
    "colab": {
      "provenance": []
    },
    "kernelspec": {
      "display_name": "Python 3",
      "name": "python3"
    },
    "language_info": {
      "codemirror_mode": {
        "name": "ipython",
        "version": 3
      },
      "file_extension": ".py",
      "mimetype": "text/x-python",
      "name": "python",
      "nbconvert_exporter": "python",
      "pygments_lexer": "ipython3",
      "version": "3.11.9"
    }
  },
  "nbformat": 4,
  "nbformat_minor": 0
}