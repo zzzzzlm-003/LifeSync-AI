{
  "cells": [
    {
      "cell_type": "markdown",
      "metadata": {
        "id": "490bbd7e"
      },
      "source": [
        "<a target=\"_blank\" href=\"https://colab.research.google.com/github/lukebarousse/Python_Data_Analytics_Course/blob/main/1_Basics/21_Classes.ipynb\">\n",
        "  <img src=\"https://colab.research.google.com/assets/colab-badge.svg\" alt=\"Open In Colab\"/>\n",
        "</a>"
      ]
    },
    {
      "cell_type": "markdown",
      "metadata": {
        "id": "qhAlNWJzG0S3"
      },
      "source": [
        "# Classes"
      ]
    },
    {
      "cell_type": "markdown",
      "metadata": {
        "id": "hlM3qG9UOHOT"
      },
      "source": [
        "## Python Objects\n",
        "\n",
        "### Notes\n",
        "\n",
        "* Python is an object oriented programming language.\n",
        "* Almost everything is an object, with properties and methods.\n",
        "* A **class** is like an object constructor.\n",
        "\n",
        "In our course we'll briefly go over classes, but it won't be covered in detail."
      ]
    },
    {
      "cell_type": "markdown",
      "metadata": {
        "id": "9l5naBl10naK"
      },
      "source": [
        "## Importance\n",
        "\n",
        "Classes are the basis for Object-Oriented Programming in Python. While not directly used in pandas or matplotlib operations, understanding them is vital for extending these libraries or customizing functionalities."
      ]
    },
    {
      "cell_type": "markdown",
      "metadata": {
        "id": "NiOglwzc0naK"
      },
      "source": [
        "## Simple Example\n",
        "\n",
        "### Create Class\n",
        "\n",
        "We're creating a class called `LukesList`, don't worry about the code following that.\n",
        "- Ths class operates very similiar to a `list` object"
      ]
    },
    {
      "cell_type": "code",
      "execution_count": null,
      "metadata": {
        "id": "p0lJEfpT0naK"
      },
      "outputs": [],
      "source": [
        "class LukesList:\n",
        "    def __init__(self):\n",
        "        \"\"\"Initialize an empty list.\"\"\"\n",
        "        self._items = []\n",
        "\n",
        "    def add(self, item):\n",
        "        \"\"\"Add an item to the end of the list.\"\"\"\n",
        "        self._items.append(item)\n",
        "\n",
        "    def __getitem__(self, index):\n",
        "        \"\"\"Retrieve an item by index.\"\"\"\n",
        "        return self._items[index]\n",
        "\n",
        "    def __setitem__(self, index, value):\n",
        "        \"\"\"Set an item at a specific index.\"\"\"\n",
        "        self._items[index] = value\n",
        "\n",
        "    def __repr__(self):\n",
        "        \"\"\"Return a string representation of the list.\"\"\"\n",
        "        return str(self._items)\n",
        "\n",
        "    def __len__(self):\n",
        "        \"\"\"Return the length of the list.\"\"\"\n",
        "        return len(self._items)"
      ]
    },
    {
      "cell_type": "markdown",
      "metadata": {
        "id": "ms9dnKE2OZ1J"
      },
      "source": [
        "### Create Instance\n",
        "\n",
        "#### Notes\n",
        "\n",
        "* We can use the class to create objects to create an instance of it by calling: `LukesList()`"
      ]
    },
    {
      "cell_type": "code",
      "execution_count": null,
      "metadata": {
        "id": "fTAqIsTD0naM",
        "outputId": "d4a7136c-c523-47d8-e348-502ce75a022d"
      },
      "outputs": [
        {
          "ename": "NameError",
          "evalue": "name 'LukesList' is not defined",
          "output_type": "error",
          "traceback": [
            "\u001b[1;31m---------------------------------------------------------------------------\u001b[0m",
            "\u001b[1;31mNameError\u001b[0m                                 Traceback (most recent call last)",
            "Cell \u001b[1;32mIn[1], line 1\u001b[0m\n\u001b[1;32m----> 1\u001b[0m my_list \u001b[38;5;241m=\u001b[39m \u001b[43mLukesList\u001b[49m()\n\u001b[0;32m      3\u001b[0m my_list\n",
            "\u001b[1;31mNameError\u001b[0m: name 'LukesList' is not defined"
          ]
        }
      ],
      "source": [
        "my_list = LukesList()\n",
        "\n",
        "my_list"
      ]
    },
    {
      "cell_type": "markdown",
      "metadata": {
        "id": "2T7_Gbas0naM"
      },
      "source": [
        "### Manipulate Instance\n",
        "\n",
        "We can add to the list by using the `.add()` method."
      ]
    },
    {
      "cell_type": "code",
      "execution_count": null,
      "metadata": {
        "id": "tOJ_I2Xd0naN",
        "outputId": "1a0e27cc-05e6-44b6-b995-8a3a084730b9"
      },
      "outputs": [
        {
          "data": {
            "text/plain": [
              "['Data Nerd', 'Finance Nerd']"
            ]
          },
          "execution_count": 3,
          "metadata": {},
          "output_type": "execute_result"
        }
      ],
      "source": [
        "my_list.add(\"Data Nerd\")\n",
        "my_list.add(\"Finance Nerd\")\n",
        "\n",
        "my_list"
      ]
    },
    {
      "cell_type": "markdown",
      "metadata": {
        "id": "VAWujHr90naN"
      },
      "source": [
        "We can even use functions like `len()` on it:"
      ]
    },
    {
      "cell_type": "code",
      "execution_count": null,
      "metadata": {
        "id": "JVCa02Ix0naO",
        "outputId": "878490ae-b0c1-4e82-bbe0-dcd87a0845df"
      },
      "outputs": [
        {
          "data": {
            "text/plain": [
              "2"
            ]
          },
          "execution_count": 4,
          "metadata": {},
          "output_type": "execute_result"
        }
      ],
      "source": [
        "len(my_list)"
      ]
    },
    {
      "cell_type": "markdown",
      "metadata": {
        "id": "n2UJtnWG0naO"
      },
      "source": [
        "## Practical Example\n",
        "\n",
        "### Demonstration\n",
        "\n",
        "Recall back that we had built functions to automate calculating things about a salary."
      ]
    },
    {
      "cell_type": "code",
      "execution_count": null,
      "metadata": {
        "id": "Z-5A31-l0naO"
      },
      "outputs": [],
      "source": [
        "def calculate_salary(base_salary, bonus_rate=.1):\n",
        "  \"\"\"\n",
        "  Calculate the total salary based on the base salary and bonus rate.\n",
        "\n",
        "  Args:\n",
        "    base_salary (float): The base salary.\n",
        "    bonus_rate (float): The bonus rate. Default is .1.\n",
        "\n",
        "  Returns:\n",
        "    float: The total salary.\n",
        "  \"\"\"\n",
        "  return base_salary * (1 + bonus_rate)\n",
        "\n",
        "def calculate_bonus(total_salary, base_salary):\n",
        "  \"\"\"\n",
        "  Calculate the bonus rate based on the total salary and base salary.\n",
        "\n",
        "  Args:\n",
        "    total_salary (float): The total salary.\n",
        "    base_salary (float): The base salary.\n",
        "\n",
        "  Returns:\n",
        "    float: The bonus rate.\n",
        "  \"\"\"\n",
        "  return (total_salary - base_salary) / base_salary"
      ]
    },
    {
      "cell_type": "markdown",
      "metadata": {
        "id": "MotPSeOX0naP"
      },
      "source": [
        "Well we can make this into a class."
      ]
    },
    {
      "cell_type": "code",
      "execution_count": null,
      "metadata": {
        "id": "7gPiXt4b0naP"
      },
      "outputs": [],
      "source": [
        "class BaseSalary:\n",
        "  def __init__(self, base_salary, bonus_rate=0.1, symbol=\"$\"):\n",
        "    self.base_salary = base_salary\n",
        "    self.bonus_rate = bonus_rate\n",
        "    self.symbol = symbol\n",
        "    self.total_salary = base_salary * (1 + bonus_rate)\n",
        "    self.bonus = self.total_salary - self.base_salary\n",
        "\n",
        "  def __repr__(self):\n",
        "    return f'{self.symbol}{self.base_salary:,.0f}'\n",
        "\n",
        "  def show_salary(self):\n",
        "    return f'{self.symbol}{self.total_salary:,.0f}'\n",
        "\n",
        "  def show_bonus(self):\n",
        "    return f'{self.symbol}{self.bonus:,.0f}'"
      ]
    },
    {
      "cell_type": "markdown",
      "metadata": {
        "id": "ZvHoT5nR0naP"
      },
      "source": [
        "We can have it print out the salary formatted correctly."
      ]
    },
    {
      "cell_type": "code",
      "execution_count": null,
      "metadata": {
        "id": "6MUDZzJ20naQ",
        "outputId": "99eb9095-55a0-4921-a957-9522b0ad2633"
      },
      "outputs": [
        {
          "data": {
            "text/plain": [
              "$100,000"
            ]
          },
          "execution_count": 8,
          "metadata": {},
          "output_type": "execute_result"
        }
      ],
      "source": [
        "salary = BaseSalary(100000)\n",
        "\n",
        "salary"
      ]
    },
    {
      "cell_type": "markdown",
      "metadata": {
        "id": "PN3fGCjf0naQ"
      },
      "source": [
        "Along with things like calculating the total salary:"
      ]
    },
    {
      "cell_type": "code",
      "execution_count": null,
      "metadata": {
        "id": "USJKC_eP0naR",
        "outputId": "6c9bc618-2193-46d7-ef30-34d54a2d9f19"
      },
      "outputs": [
        {
          "data": {
            "text/plain": [
              "'$110,000'"
            ]
          },
          "execution_count": 10,
          "metadata": {},
          "output_type": "execute_result"
        }
      ],
      "source": [
        "salary.show_salary()"
      ]
    },
    {
      "cell_type": "markdown",
      "metadata": {
        "id": "rkjVQ9A-OXn1"
      },
      "source": [
        "## `__init__()` function\n",
        "\n",
        "### Notes\n",
        "\n",
        "* All classes have a function called `__init__()`, it's always executed when a class is being initiated.\n",
        "* Use the `__init__()` function to assign values to object properties, or other operations that are necessary when the object is created.\n",
        "\n",
        "\n",
        "### Example\n",
        "\n",
        "Create a class named `DataScienceJobList`, use the `__init__()` function to assign values for `jobs`."
      ]
    },
    {
      "cell_type": "code",
      "execution_count": null,
      "metadata": {
        "id": "g1AcQIGf0naR"
      },
      "outputs": [],
      "source": [
        "class DataScienceJobsList:\n",
        "    def __init__(self, jobs):\n",
        "        self.jobs = jobs"
      ]
    },
    {
      "cell_type": "markdown",
      "metadata": {
        "id": "FIMe1VX50naR"
      },
      "source": [
        "Example of how to use this class: we'll create a list of data science jobs called `data_science_jobs`."
      ]
    },
    {
      "cell_type": "code",
      "execution_count": null,
      "metadata": {
        "id": "z21HF2M30naS"
      },
      "outputs": [],
      "source": [
        "data_science_jobs = [\n",
        "    {'job_title': 'Data Scientist', 'job_skills': \"Python, SQL, Machine Learning\"},\n",
        "    {'job_title': 'Data Analyst', 'job_skills': \"SQL, Excel, Python\"},\n",
        "    {'job_title': 'Machine Learning Engineer', 'job_skills': \"Python, TensorFlow, Keras\"}\n",
        "]"
      ]
    },
    {
      "cell_type": "markdown",
      "metadata": {
        "id": "jl3OP4jj0naS"
      },
      "source": [
        "Then we will assign this class to an object called `jobs_list` and return `jobs_list`."
      ]
    },
    {
      "cell_type": "code",
      "execution_count": null,
      "metadata": {
        "id": "-CBQYKva0naS",
        "outputId": "8eee3a5f-9fb0-48c7-956c-99bc2424e474"
      },
      "outputs": [
        {
          "data": {
            "text/plain": [
              "<__main__.DataScienceJobsList at 0x1fab8c9d590>"
            ]
          },
          "execution_count": 37,
          "metadata": {},
          "output_type": "execute_result"
        }
      ],
      "source": [
        "jobs_list = DataScienceJobsList(data_science_jobs)\n",
        "jobs_list"
      ]
    },
    {
      "cell_type": "markdown",
      "metadata": {
        "id": "7HNNdx0q0naS"
      },
      "source": [
        "Okay if we try to print or call this object it just displays: `<__main__.DataScienceJobsList at 0x1fab8c6b190>` which isn't very useful. So we'll use a function called `__str__()` to output something better."
      ]
    },
    {
      "cell_type": "markdown",
      "source": [
        "好的，我们来聊聊 Python 中的 `__init__()` 函数，它是每个面向对象编程新手都会遇到的重要概念。\n",
        "\n",
        "为了让你更好地理解，我们还是用比喻的方式，把这个函数想象成一个工厂里的“**初始化流水线**”。\n",
        "\n",
        "### `__init__()` 的作用\n",
        "\n",
        "当你在 Python 中创建一个对象时，比如你写下 `my_car = Car()`，你其实是在告诉程序：“请帮我造一辆新的汽车！”\n",
        "\n",
        "这个时候，`__init__()` 函数就会**自动、立即**被调用。它的主要任务就是：\n",
        "\n",
        "1.  **设置初始状态**：给新创建的对象**赋予**一些**初始的属性和值**。\n",
        "2.  **接收参数**：允许你在创建对象时，就传入一些定制化的信息。\n",
        "\n",
        "-----\n",
        "\n",
        "### 比喻：造汽车的工厂流水线\n",
        "\n",
        "想象你是一家汽车制造公司的老板，你决定要生产一种 `Car`（汽车）对象。\n",
        "\n",
        "  * **`class Car:`** 这就像你设计了一个汽车的“**蓝图**”，它定义了汽车应该有什么样的特征（比如颜色、品牌）和功能（比如启动、加速）。\n",
        "  * **`def __init__(self, brand, color):`** 这个函数就是你设计的“**初始化流水线**”。\n",
        "      * `self`：代表正在被制造的这辆车本身。你正在给它上漆、装轮子，所有操作都是针对“它”进行的。\n",
        "      * `brand` 和 `color`：这是流水线接收的**输入参数**。你告诉工人：“这辆车要用‘丰田’这个品牌，颜色是‘红色’。”\n",
        "  * **`self.brand = brand`** 和 **`self.color = color`**：这是流水线上的具体操作。\n",
        "      * `self.brand` 这句话的意思是，给正在制造的这辆车（`self`），**贴上一个名为 `brand` 的标签**，并把我们传入的那个 `brand` 值（比如“丰田”）赋给它。\n",
        "      * `self.color` 同理，给这辆车贴上 `color` 的标签，并把“红色”这个值赋给它。\n",
        "\n",
        "### 代码例子\n",
        "\n",
        "我们把上面的比喻写成代码，你就一目了然了：\n",
        "\n",
        "```python\n",
        "class Car:\n",
        "    def __init__(self, brand, color):\n",
        "        \"\"\"\n",
        "        __init__函数，用于初始化一个Car对象。\n",
        "        \"\"\"\n",
        "        print(\"新的汽车正在被制造...\")\n",
        "        self.brand = brand  # 给这个对象添加一个brand属性\n",
        "        self.color = color  # 给这个对象添加一个color属性\n",
        "\n",
        "    def describe(self):\n",
        "        \"\"\"\n",
        "        一个描述汽车的普通方法。\n",
        "        \"\"\"\n",
        "        print(f\"这是一辆{self.color}色的{self.brand}汽车。\")\n",
        "\n",
        "# 制造一辆新的汽车对象\n",
        "# 传入 'Toyota' 和 'Red' 这两个参数，它们会被传递给 __init__\n",
        "my_car = Car('Toyota', 'Red')\n",
        "\n",
        "# 制造另一辆新的汽车对象，传入不同的参数\n",
        "your_car = Car('Honda', 'Blue')\n",
        "\n",
        "# 调用方法来查看结果\n",
        "my_car.describe()\n",
        "your_car.describe()\n",
        "```\n",
        "\n",
        "**运行结果：**\n",
        "\n",
        "```\n",
        "新的汽车正在被制造...\n",
        "新的汽车正在被制造...\n",
        "这是一辆Red色的Toyota汽车。\n",
        "这是一辆Blue色的Honda汽车。\n",
        "```\n",
        "\n",
        "从结果可以看出，当我们创建 `my_car` 和 `your_car` 这两个对象时，`__init__()` 自动执行了，并根据我们传入的参数，给每个对象赋予了不同的 `color` 和 `brand` 属性。\n",
        "\n",
        "### 总结\n",
        "\n",
        "  * `__init__()` 是一个**特殊方法**，通常被称为“构造函数”（constructor）。\n",
        "  * 它的作用是**初始化**一个新创建的对象。\n",
        "  * 它**总是在**对象创建时**自动**被调用。\n",
        "  * 它的第一个参数必须是 `self`，用于指代正在被初始化的对象本身。\n",
        "  * 你可以在 `__init__()` 中定义你需要的任何参数，来定制化你的对象。\n",
        "\n",
        "记住，**`__init__()` 就像是工厂里专为新产品设定的第一道工序，它确保每个新产品在出厂前，都已经拥有了它该有的基本特征。**\n",
        "\n",
        "希望这个解释对你有帮助！"
      ],
      "metadata": {
        "id": "nONR_aMk0yzV"
      }
    },
    {
      "cell_type": "markdown",
      "metadata": {
        "id": "I-bDipSY0naT"
      },
      "source": [
        "## `__str__()` function\n",
        "\n",
        "### Notes\n",
        "\n",
        "* `__str__()` function shows what should be returned when the class object is represented as a string.\n",
        "* If it's not set, the string representation of the object is returned (like it is in the example above).\n",
        "\n",
        "### Example\n",
        "\n",
        "Create a class named `DataScienceJobList`, that has:\n",
        "* What we did before:\n",
        "    * The `__init__()` function to assign values for `jobs` (what we created in the last example).\n",
        "* Now:\n",
        "    * A `__str__()` function to print out the data science jobs.\n",
        "\n",
        "Note: Each time we create/add a new method, we have to redefine the whole class in another cell."
      ]
    },
    {
      "cell_type": "code",
      "execution_count": null,
      "metadata": {
        "id": "RnFqggXM0naT"
      },
      "outputs": [],
      "source": [
        "class DataScienceJobsList:\n",
        "    def __init__(self, jobs):\n",
        "        '''\n",
        "        Initializes the DataScienceJobsList object with a list of jobs.\n",
        "        '''\n",
        "        self.jobs = jobs\n",
        "\n",
        "    def __str__(self):\n",
        "        '''\n",
        "        Returns a string representation of the data science jobs list.\n",
        "        '''\n",
        "        jobs_str = 'Data Science Jobs:\\n'\n",
        "        for job in self.jobs:\n",
        "            # Assuming job_skills is initially a string; it will be split later\n",
        "            jobs_str += f\"- {job['job_title']}: {job['job_skills']}\\n\"\n",
        "        return jobs_str"
      ]
    },
    {
      "cell_type": "markdown",
      "metadata": {
        "id": "-8ec_ExB0naU"
      },
      "source": [
        "Then we will assign this class to an object called `jobs_list` and print `jobs_list`. Because of the `__str__()` function it will now print out what we told it to instead of the string representation."
      ]
    },
    {
      "cell_type": "code",
      "execution_count": null,
      "metadata": {
        "id": "wpoEnOK40naU",
        "outputId": "bc2d5503-71c4-47cc-e032-83adfc2174ca"
      },
      "outputs": [
        {
          "name": "stdout",
          "output_type": "stream",
          "text": [
            "Data Science Jobs:\n",
            "- Data Scientist: Python, SQL, Machine Learning\n",
            "- Data Analyst: SQL, Excel, Python\n",
            "- Machine Learning Engineer: Python, TensorFlow, Keras\n",
            "\n"
          ]
        }
      ],
      "source": [
        "jobs_list = DataScienceJobsList(data_science_jobs)\n",
        "print(jobs_list)"
      ]
    },
    {
      "cell_type": "markdown",
      "metadata": {
        "id": "_l_S8u230naU"
      },
      "source": [
        "## Object Methods\n",
        "\n",
        "### Notes\n",
        "\n",
        "* Object can also contain methods\n",
        "* Methods in objects are functions that belong to the object\n",
        "\n",
        "### Example\n",
        "\n",
        "Create a class named `DataScienceJobList`, that has:\n",
        "* What we created before:\n",
        "    * The `__init__()` function to assign values for `jobs`\n",
        "    * A `__str__()` function to print out the data science jobs\n",
        "* Now:\n",
        "    * A `split_skills` method that converts the job skills to a list"
      ]
    },
    {
      "cell_type": "code",
      "execution_count": null,
      "metadata": {
        "id": "-L5w6y0W0naU"
      },
      "outputs": [],
      "source": [
        "class DataScienceJobsList:\n",
        "    def __init__(self, jobs):\n",
        "        self.jobs = jobs\n",
        "\n",
        "    def __str__(self):\n",
        "        jobs_str = 'Data Science Jobs:\\n'\n",
        "        for job in self.jobs:\n",
        "            jobs_str += f\"- {job['job_title']}: {', '.join(job['job_skills'])}\\n\"\n",
        "        return jobs_str\n",
        "\n",
        "    def split_skills(self):\n",
        "        for job in self.jobs:\n",
        "            job['job_skills'] = job['job_skills'].split(', ')"
      ]
    },
    {
      "cell_type": "markdown",
      "metadata": {
        "id": "HM_c9Nhx0naV"
      },
      "source": [
        "Then we will assign this class to an object called `jobs_list` and call the `split_skills()` method."
      ]
    },
    {
      "cell_type": "code",
      "execution_count": null,
      "metadata": {
        "id": "-55yrh2D0naV",
        "outputId": "c6b8d2fc-9b93-4624-b696-3049d2fdd1c6"
      },
      "outputs": [
        {
          "name": "stdout",
          "output_type": "stream",
          "text": [
            "Data Science Jobs:\n",
            "- Data Scientist: Python, SQL, Machine Learning\n",
            "- Data Analyst: SQL, Excel, Python\n",
            "- Machine Learning Engineer: Python, TensorFlow, Keras\n",
            "\n"
          ]
        }
      ],
      "source": [
        "jobs_list = DataScienceJobsList(data_science_jobs)\n",
        "jobs_list.split_skills() # Ensure this is called to split the skills into lists\n",
        "print(jobs_list)"
      ]
    },
    {
      "cell_type": "markdown",
      "metadata": {
        "id": "oPakACDN0naV"
      },
      "source": [
        "## Extras\n",
        "\n",
        "These are extra examples."
      ]
    },
    {
      "cell_type": "markdown",
      "metadata": {
        "id": "Vb4CnaAi0naW"
      },
      "source": [
        "### Printing Class\n",
        "\n",
        "What if we tried printing this class now?"
      ]
    },
    {
      "cell_type": "markdown",
      "metadata": {
        "id": "-k7N1caF0naX"
      },
      "source": [
        "🪲 **Debugging**\n",
        "\n",
        "**These are intentional mistakes**\n",
        "\n",
        "This is used to demonstrate debugging.\n",
        "\n",
        "Error: This code will return an incorrect output than what we want.\n",
        "\n",
        "Steps to Debug:\n",
        "\n",
        "1. Look at the actual error, can you tell what the problem is?\n",
        "2. If not, then look it up:\n",
        "  1. Use a chatbot like ChatGPT or Claude\n",
        "  2. Look it up using Google"
      ]
    },
    {
      "cell_type": "code",
      "execution_count": null,
      "metadata": {
        "id": "vSNkOnkJ0naX"
      },
      "outputs": [],
      "source": [
        "class DataScienceJobsList:\n",
        "    def __init__(self, jobs):\n",
        "        self.jobs = jobs\n",
        "\n",
        "    def __str__(self):\n",
        "        jobs_str = 'Data Science Jobs:\\n'\n",
        "        for job in self.jobs:\n",
        "            jobs_str += f\"- {job['job_title']}: {', '.join(job['job_skills'])}\\n\"\n",
        "        return jobs_str\n",
        "\n",
        "    def split_skills(self):\n",
        "        for job in self.jobs:\n",
        "            job['job_skills'] = job['job_skills'].split(', ')"
      ]
    },
    {
      "cell_type": "code",
      "execution_count": null,
      "metadata": {
        "id": "lvotKEta0nae",
        "outputId": "14a4e7bc-cdd3-4589-d51a-555e08c26c5f"
      },
      "outputs": [
        {
          "name": "stdout",
          "output_type": "stream",
          "text": [
            "Data Science Jobs:\n",
            "- Data Scientist: Python, SQL, Machine Learning\n",
            "- Data Analyst: SQL, Excel, Python\n",
            "- Machine Learning Engineer: Python, TensorFlow, Keras\n",
            "\n"
          ]
        }
      ],
      "source": [
        "jobs_list = DataScienceJobsList(data_science_jobs)\n",
        "print(jobs_list)"
      ]
    },
    {
      "cell_type": "markdown",
      "metadata": {
        "id": "LWVzZ32j0nag"
      },
      "source": [
        "Oh this doesn't look correct. It's because the `__str__()` method attempts to join the job['job_skills'] assuming it's a list, but at the point where __str__() is called, the skills haven't been split into lists yet; they're still strings.\n",
        "\n",
        "The method is attempting to join the individual characters of the string, instead of splitting the string into a list of skills first.\n",
        "\n",
        "We'll fix it by adjusting the `__str__()` method to handle cases where either:\n",
        "\n",
        "* `split_skills` is called before any attempts to print the object.\n",
        "* Adjust the `__str__()` method where skills might still be a single string or have already split into a list."
      ]
    },
    {
      "cell_type": "code",
      "execution_count": null,
      "metadata": {
        "id": "gwfJCWLz0nah"
      },
      "outputs": [],
      "source": [
        "class DataScienceJobsList:\n",
        "    def __init__(self, jobs):\n",
        "        self.jobs = jobs\n",
        "\n",
        "    def __str__(self):\n",
        "        jobs_str = 'Data Science Jobs:\\n'\n",
        "        for job in self.jobs:\n",
        "            # Check if job_skills is already a list or still a string\n",
        "            if isinstance(job['job_skills'], list):\n",
        "                skills_str = ', '.join(job['job_skills'])\n",
        "            else:\n",
        "                skills_str = job['job_skills']\n",
        "            jobs_str += f\"- {job['job_title']}: {skills_str}\\n\"\n",
        "        return jobs_str\n",
        "\n",
        "    def split_skills(self):\n",
        "        for job in self.jobs:\n",
        "            job['job_skills'] = job['job_skills'].split(', ')"
      ]
    },
    {
      "cell_type": "markdown",
      "metadata": {
        "id": "Pzs86N1x0nah"
      },
      "source": [
        "Now the `__str__()` method will correctly handle `job['job_skills']` whether it's a pre-split list or a string that hasn't been split yet."
      ]
    },
    {
      "cell_type": "code",
      "execution_count": null,
      "metadata": {
        "id": "Yo-5zWT80nah",
        "outputId": "82653649-826b-46cc-da91-6922d627e2a5"
      },
      "outputs": [
        {
          "name": "stdout",
          "output_type": "stream",
          "text": [
            "Data Science Jobs:\n",
            "- Data Scientist: Python, SQL, Machine Learning\n",
            "- Data Analyst: SQL, Excel, Python\n",
            "- Machine Learning Engineer: Python, TensorFlow, Keras\n",
            "\n"
          ]
        }
      ],
      "source": [
        "jobs_list = DataScienceJobsList(data_science_jobs)\n",
        "print(jobs_list)"
      ]
    },
    {
      "cell_type": "markdown",
      "metadata": {
        "id": "I5yIwIDr0nai"
      },
      "source": [
        "### Add in Method\n",
        "\n",
        "While the `__str__()` method is good for providing a quick and readable description of the object's state. We should create a method to explicitly called to print the details of each job to the console.\n",
        "\n",
        "Explanation:\n",
        "\n",
        "* It iterates through the list of jobs, prints the job title.\n",
        "* Then iterates through the list of required skills, printing each one.\n",
        "* Remember it's not returning a value, instead it directly outputs to the console."
      ]
    },
    {
      "cell_type": "markdown",
      "metadata": {
        "id": "lL8071g40naj"
      },
      "source": [
        "🪲 **Debugging**\n",
        "\n",
        "**These are intentional mistakes**\n",
        "\n",
        "This is used to demonstrate debugging.\n",
        "\n",
        "Errors: This is either because we've called `split_skills()` more than once on the same `DataScienceJobsList` instance, or the initial data passed to __init__ already had the skills as lists for some entries.\n",
        "\n",
        "Steps to Debug:\n",
        "\n",
        "1. Look at the actual error, can you tell what the problem is?\n",
        "2. If not, then look it up:\n",
        "  1. Use a chatbot like ChatGPT or Claude\n",
        "  2. Look it up using Google"
      ]
    },
    {
      "cell_type": "code",
      "execution_count": null,
      "metadata": {
        "id": "xlEhq3wr0naj"
      },
      "outputs": [],
      "source": [
        "class DataScienceJobsList:\n",
        "    def __init__(self, jobs):\n",
        "        self.jobs = jobs\n",
        "\n",
        "    def __str__(self):\n",
        "        jobs_str = 'Data Science Jobs:\\n'\n",
        "        for job in self.jobs:\n",
        "            # Check if job_skills is already a list or still a string\n",
        "            if isinstance(job['job_skills'], list):\n",
        "                skills_str = ', '.join(job['job_skills'])\n",
        "            else:\n",
        "                skills_str = job['job_skills']\n",
        "            jobs_str += f\"- {job['job_title']}: {skills_str}\\n\"\n",
        "        return jobs_str\n",
        "\n",
        "    def split_skills(self):\n",
        "        for job in self.jobs:\n",
        "            job['job_skills'] = job['job_skills'].split(', ')\n",
        "\n",
        "    def display_jobs(self):\n",
        "        for job in self.jobs:\n",
        "            print(f\"Job Title: {job['job_title']}\")\n",
        "            print(\"Required Skills:\")\n",
        "            for skill in job['job_skills']:\n",
        "                print(f\"- {skill}\")\n",
        "            print()  # Adds an empty line for better readability"
      ]
    },
    {
      "cell_type": "code",
      "execution_count": null,
      "metadata": {
        "id": "x1L4uobB0nak",
        "outputId": "ada58e47-85bb-48e8-9743-03b59dadaede"
      },
      "outputs": [
        {
          "ename": "AttributeError",
          "evalue": "'list' object has no attribute 'split'",
          "output_type": "error",
          "traceback": [
            "\u001b[1;31m---------------------------------------------------------------------------\u001b[0m",
            "\u001b[1;31mAttributeError\u001b[0m                            Traceback (most recent call last)",
            "Cell \u001b[1;32mIn[51], line 2\u001b[0m\n\u001b[0;32m      1\u001b[0m jobs_list \u001b[38;5;241m=\u001b[39m DataScienceJobsList(data_science_jobs)\n\u001b[1;32m----> 2\u001b[0m \u001b[43mjobs_list\u001b[49m\u001b[38;5;241;43m.\u001b[39;49m\u001b[43msplit_skills\u001b[49m\u001b[43m(\u001b[49m\u001b[43m)\u001b[49m\n\u001b[0;32m      3\u001b[0m jobs_list\u001b[38;5;241m.\u001b[39mdisplay_jobs()\n",
            "Cell \u001b[1;32mIn[50], line 18\u001b[0m, in \u001b[0;36mDataScienceJobsList.split_skills\u001b[1;34m(self)\u001b[0m\n\u001b[0;32m     16\u001b[0m \u001b[38;5;28;01mdef\u001b[39;00m \u001b[38;5;21msplit_skills\u001b[39m(\u001b[38;5;28mself\u001b[39m):\n\u001b[0;32m     17\u001b[0m     \u001b[38;5;28;01mfor\u001b[39;00m job \u001b[38;5;129;01min\u001b[39;00m \u001b[38;5;28mself\u001b[39m\u001b[38;5;241m.\u001b[39mjobs:\n\u001b[1;32m---> 18\u001b[0m         job[\u001b[38;5;124m'\u001b[39m\u001b[38;5;124mjob_skills\u001b[39m\u001b[38;5;124m'\u001b[39m] \u001b[38;5;241m=\u001b[39m \u001b[43mjob\u001b[49m\u001b[43m[\u001b[49m\u001b[38;5;124;43m'\u001b[39;49m\u001b[38;5;124;43mjob_skills\u001b[39;49m\u001b[38;5;124;43m'\u001b[39;49m\u001b[43m]\u001b[49m\u001b[38;5;241;43m.\u001b[39;49m\u001b[43msplit\u001b[49m(\u001b[38;5;124m'\u001b[39m\u001b[38;5;124m, \u001b[39m\u001b[38;5;124m'\u001b[39m)\n",
            "\u001b[1;31mAttributeError\u001b[0m: 'list' object has no attribute 'split'"
          ]
        }
      ],
      "source": [
        "jobs_list = DataScienceJobsList(data_science_jobs)\n",
        "jobs_list.split_skills()\n",
        "jobs_list.display_jobs()"
      ]
    },
    {
      "cell_type": "markdown",
      "metadata": {
        "id": "WxdnmGaG0nak"
      },
      "source": [
        "Solution: Modify the split_skills method to check if `job['job_skills']` is a string before attempting to split it. Now, if `split_skills()` is called multiple times, it won't attempt to split already split lists, thus avoiding the error."
      ]
    },
    {
      "cell_type": "code",
      "execution_count": null,
      "metadata": {
        "id": "fT4cjdlq0nak"
      },
      "outputs": [],
      "source": [
        "class DataScienceJobsList:\n",
        "    def __init__(self, jobs):\n",
        "        self.jobs = jobs\n",
        "\n",
        "    def __str__(self):\n",
        "        jobs_str = 'Data Science Jobs:\\n'\n",
        "        for job in self.jobs:\n",
        "            if isinstance(job['job_skills'], list):\n",
        "                skills_str = ', '.join(job['job_skills'])\n",
        "            else:\n",
        "                skills_str = job['job_skills']\n",
        "            jobs_str += f\"- {job['job_title']}: {skills_str}\\n\"\n",
        "        return jobs_str\n",
        "\n",
        "    def split_skills(self):\n",
        "        for job in self.jobs:\n",
        "            if isinstance(job['job_skills'], str):  # Check if job_skills is a string\n",
        "                job['job_skills'] = job['job_skills'].split(', ')\n",
        "\n",
        "    def display_jobs(self):\n",
        "        for job in self.jobs:\n",
        "            print(f\"Job Title: {job['job_title']}\")\n",
        "            print(\"Required Skills:\")\n",
        "            for skill in job['job_skills']:\n",
        "                print(f\"- {skill}\")\n",
        "            print()  # Adds an empty line for better readability"
      ]
    },
    {
      "cell_type": "markdown",
      "metadata": {
        "id": "rsLLLQ2l0nal"
      },
      "source": [
        "It works now 🙌"
      ]
    },
    {
      "cell_type": "code",
      "execution_count": null,
      "metadata": {
        "id": "mfNuhv_i0nal",
        "outputId": "75155627-ffcf-4634-ee91-dc7073317840"
      },
      "outputs": [
        {
          "name": "stdout",
          "output_type": "stream",
          "text": [
            "Job Title: Data Scientist\n",
            "Required Skills:\n",
            "- Python\n",
            "- SQL\n",
            "- Machine Learning\n",
            "\n",
            "Job Title: Data Analyst\n",
            "Required Skills:\n",
            "- SQL\n",
            "- Excel\n",
            "- Python\n",
            "\n",
            "Job Title: Machine Learning Engineer\n",
            "Required Skills:\n",
            "- Python\n",
            "- TensorFlow\n",
            "- Keras\n",
            "\n"
          ]
        }
      ],
      "source": [
        "jobs_list = DataScienceJobsList(data_science_jobs)\n",
        "jobs_list.split_skills()\n",
        "jobs_list.display_jobs()"
      ]
    },
    {
      "cell_type": "markdown",
      "metadata": {
        "id": "Mmm7mfl-0nam"
      },
      "source": [
        "That's it for classes. Now onto an exercise and then we'll dive into actual data analysis."
      ]
    }
  ],
  "metadata": {
    "colab": {
      "provenance": []
    },
    "kernelspec": {
      "display_name": "Python 3",
      "name": "python3"
    },
    "language_info": {
      "codemirror_mode": {
        "name": "ipython",
        "version": 3
      },
      "file_extension": ".py",
      "mimetype": "text/x-python",
      "name": "python",
      "nbconvert_exporter": "python",
      "pygments_lexer": "ipython3",
      "version": "3.11.9"
    }
  },
  "nbformat": 4,
  "nbformat_minor": 0
}