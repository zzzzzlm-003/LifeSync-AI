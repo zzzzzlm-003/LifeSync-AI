{
  "cells": [
    {
      "cell_type": "markdown",
      "metadata": {
        "id": "e1051e8f"
      },
      "source": [
        "<a target=\"_blank\" href=\"https://colab.research.google.com/github/lukebarousse/Python_Data_Analytics_Course/blob/main/1_Basics/15_Exercise_Basics.ipynb\">\n",
        "  <img src=\"https://colab.research.google.com/assets/colab-badge.svg\" alt=\"Open In Colab\"/>\n",
        "</a>"
      ]
    },
    {
      "cell_type": "markdown",
      "metadata": {
        "id": "eTqSYLEvmoO9"
      },
      "source": [
        "## Exercise - Basics"
      ]
    },
    {
      "cell_type": "markdown",
      "metadata": {
        "id": "JrHGvE-iuHWi"
      },
      "source": [
        "## Topics Covered\n",
        "\n",
        "This exercise goes over:\n",
        "\n",
        "* Variables\n",
        "* Operators\n",
        "* Conditional Statements\n",
        "* Lists\n",
        "* Dictionaries\n",
        "* Loops\n",
        "\n",
        "## Question\n",
        "\n",
        "Write a Python script to find out what jobs you are qualified based on a set of skills. The script will evaluate a list of job roles, each associated with its own set of required skills, against the skills you have. Determine which roles you're potentially qualified for and print out these roles. If there are no roles that match your skills, print a message saying there are no matching job roles based on the provided skills.\n",
        "\n",
        "We have some pre-defined variables that you will be using:\n",
        "\n",
        "1. `job_roles`: list of dictionaries, where each dictionary represents a different job role within data science. Each dictionary has the key-value pairs:\n",
        "    * `role`: Name of the job role\n",
        "    * `skills`: A list of strings, each representing a skill required for the job\n",
        "2. `my_skills`: A list of strings, representing the skills you have"
      ]
    },
    {
      "cell_type": "code",
      "execution_count": null,
      "metadata": {
        "id": "Z3Xq0JSUuHWj"
      },
      "outputs": [],
      "source": [
        "# Define data science job roles and required skills\n",
        "job_roles = [\n",
        "    {'role': 'Data Analyst', 'skills': ['Python', 'SQL', 'Excel']},\n",
        "    {'role': 'Data Scientist', 'skills': ['Python', 'R', 'Machine Learning', 'Deep Learning']},\n",
        "    {'role': 'Machine Learning Engineer', 'skills': ['Python', 'TensorFlow', 'PyTorch', 'Scikit-Learn']},\n",
        "    {'role': 'Data Engineer', 'skills': ['Python', 'Apache Spark', 'Hadoop', 'SQL']},\n",
        "    {'role': 'Business Intelligence Analyst', 'skills': ['Python', 'SQL', 'Tableau', 'Power BI', 'Excel']},\n",
        "    {'role': 'Quantitative Analyst', 'skills': ['R', 'Python', 'MATLAB', 'Statistics']},\n",
        "    {'role': 'Operations Analyst', 'skills': ['Python', 'SQL', 'Data Visualization', 'Process Improvement']},\n",
        "    {'role': 'Database Administrator', 'skills': ['SQL', 'Oracle', 'MySQL', 'Database Management']},\n",
        "    {'role': 'AI Engineer', 'skills': ['Python', 'TensorFlow', 'PyTorch', 'Computer Vision']},\n",
        "    {'role': 'Statistician', 'skills': ['R', 'SAS', 'Python', 'Statistical Modeling']}\n",
        "]\n",
        "# My skills\n",
        "my_skills = ['Python', 'SQL', 'Excel']"
      ]
    },
    {
      "cell_type": "markdown",
      "metadata": {
        "id": "QlCZRVGUuHWl"
      },
      "source": [
        "**Step 1**: Iterate through each job role in `job_roles` and determine whether or not you have the required skills. Get the roles you are qualified for in a list.\n",
        "\n",
        "**Notes**:\n",
        "* Create an empty list where we will put the roles we qualify for `qualified_roles`.\n",
        "* Use a `for` loop to go through the jobs.\n",
        "* Nested `for` loop to look through the skills for each role.\n",
        "* An `if` statement checks if the skill in the role is in the list of skills provided.\n",
        "* If it's true then add that role to the `qualified_roles` list we created."
      ]
    },
    {
      "cell_type": "code",
      "execution_count": null,
      "metadata": {
        "id": "LmMPojy6uHWn",
        "outputId": "30619c56-d919-4a36-93b4-f12cb07bd452"
      },
      "outputs": [
        {
          "data": {
            "text/plain": [
              "['Data Analyst', 'Business Intelligence Analyst']"
            ]
          },
          "execution_count": 2,
          "metadata": {},
          "output_type": "execute_result"
        }
      ],
      "source": [
        "# Determine which jobs you're qualified for\n",
        "qualified_roles = []\n",
        "\n",
        "for job in job_roles:\n",
        "    # Initialize qualified flag\n",
        "    qualified = True\n",
        "    # Go through each skill in the skills key\n",
        "    for skill in my_skills:\n",
        "        if skill not in job['skills']:\n",
        "            qualified = False\n",
        "            break\n",
        "    if qualified:\n",
        "        # Add the job dictionary to the qualified_jobs list\n",
        "        qualified_roles.append(job['role'])\n",
        "\n",
        "qualified_roles"
      ]
    },
    {
      "cell_type": "markdown",
      "metadata": {
        "id": "0rr7WvqMuHWo"
      },
      "source": [
        "Technically you can write this more succinctly using the `all()` function."
      ]
    },
    {
      "cell_type": "code",
      "execution_count": null,
      "metadata": {
        "colab": {
          "base_uri": "https://localhost:8080/"
        },
        "id": "_F6xhXQUiNX-",
        "outputId": "65dcc832-2e0a-4e87-cd80-ae65d187726d"
      },
      "outputs": [
        {
          "data": {
            "text/plain": [
              "['Data Analyst', 'Business Intelligence Analyst']"
            ]
          },
          "execution_count": 3,
          "metadata": {},
          "output_type": "execute_result"
        }
      ],
      "source": [
        "# Determine which jobs you're qualified for\n",
        "qualified_roles = []\n",
        "\n",
        "for job in job_roles:\n",
        "    # Check if all required skills are in my_skills\n",
        "    if all(skill in job['skills'] for skill in my_skills):\n",
        "        # Add the job role to the qualified_roles list\n",
        "        qualified_roles.append(job['role'])\n",
        "\n",
        "qualified_roles"
      ]
    },
    {
      "cell_type": "markdown",
      "metadata": {
        "id": "_QxhZnjiuHWq"
      },
      "source": [
        "**Step 2**: Print out the names of the roles you're potentially qualified for in a `print()` statement.\n",
        "\n",
        "**Notes**:\n",
        "* If the `qualified_roles` list is not empty (aka we have roles we're qualified for):\n",
        "    * Print the roles I'm qualified as a string using `.join` method\n",
        "* If the list is empty (meaning we don't qualify for any roles):\n",
        "    * Print that there's no matching job roles for my skills."
      ]
    },
    {
      "cell_type": "code",
      "execution_count": null,
      "metadata": {
        "id": "Gx581VnDuHWr",
        "outputId": "83051b97-ecb2-49ec-a3f6-e6855328f6ca"
      },
      "outputs": [
        {
          "name": "stdout",
          "output_type": "stream",
          "text": [
            "Qualified for the following roles: Data Analyst, Business Intelligence Analyst\n"
          ]
        }
      ],
      "source": [
        "# Output qualified job roles\n",
        "if qualified_roles:\n",
        "    output_message = 'Qualified for the following roles: ' + ', '.join(qualified_roles)\n",
        "    print(output_message)\n",
        "else:\n",
        "    print('There are no matching job roles for my skills.')"
      ]
    },
    {
      "cell_type": "markdown",
      "metadata": {
        "id": "mpv7z0DCuHWr"
      },
      "source": [
        "## List Comprehension Solution\n",
        "\n",
        "Note: This solution above can be solved with list comprehension.\n",
        "\n",
        "However, for newer programmers it's sometimes harder to wrap your head around list comprehension.\n",
        "\n",
        "Because of this I suggest writing out your code in for loops and THEN consider shifting to list comprehension."
      ]
    },
    {
      "cell_type": "code",
      "execution_count": null,
      "metadata": {
        "id": "DvOGTll7uHWs",
        "outputId": "4048466c-d9a5-45bf-9ab2-4769e2feb88d"
      },
      "outputs": [
        {
          "name": "stdout",
          "output_type": "stream",
          "text": [
            "Qualified for the following roles:  Data Analyst\n"
          ]
        }
      ],
      "source": [
        "qualified_roles = [job['role'] for job in job_roles if all(skill in my_skills for skill in job['skills'])]\n",
        "\n",
        "print('Qualified for the following roles: ', ', '.join(qualified_roles))"
      ]
    },
    {
      "cell_type": "markdown",
      "source": [
        "`all()` 函数是 Python 中的一个内置函数，用于检查一个可迭代对象（如列表、元组或生成器）中的所有元素是否都为真（`True`）。它在判断一系列条件是否同时成立时非常有用。\n",
        "\n",
        "### `all()` 的工作原理\n",
        "\n",
        "`all(iterable)` 会遍历 `iterable` 中的每一个元素。如果所有元素都为真，它就返回 `True`；只要其中有一个元素是假（`False`、`0`、`''`、`None` 等），它就会立即停止遍历并返回 `False`。如果 `iterable` 是空的，`all()` 会返回 `True`。\n",
        "\n",
        "---\n",
        "\n",
        "### 解释你的代码\n",
        "\n",
        "在你的代码片段 `[job['role'] for job in job_roles if all(skill in my_skills for skill in job['skills'])]` 中，`all()` 的作用是：\n",
        "\n",
        "1. **`skill in my_skills`**: 这是一个条件判断，检查当前 `job` 的技能列表中 (`job['skills']`) 的每个 `skill` 是否都存在于你的技能列表 (`my_skills`) 中。\n",
        "2. **`for skill in job['skills']`**: 这是一个生成器表达式，它会逐个取出 `job['skills']` 列表中的每个技能。\n",
        "3. **`all(...)`**: 它把上面的生成器表达式作为输入，检查**所有**的 `skill in my_skills` 条件是否都为 `True`。\n",
        "\n",
        "**通俗地说**：这行代码会遍历 `job_roles` 列表中的每一个 `job`，然后对每一个 `job`，它会检查一个条件：`all(skill in my_skills for skill in job['skills'])`。这个条件的意思是**“这个职位要求的所有技能，我是否全都具备？”**。\n",
        "\n",
        "* 如果这个条件为 `True`，意味着你具备该职位的所有技能，那么这个 `job['role']` 就会被添加到 `qualified_roles` 列表中。\n",
        "* 如果这个条件为 `False`，意味着你缺少该职位的至少一项技能，那么这个职位就会被跳过。\n",
        "\n",
        "最终，`qualified_roles` 列表将只包含那些你完全符合技能要求的职位名称。"
      ],
      "metadata": {
        "id": "OAZ6PvQluXhO"
      }
    }
  ],
  "metadata": {
    "colab": {
      "provenance": []
    },
    "kernelspec": {
      "display_name": "Python 3",
      "name": "python3"
    },
    "language_info": {
      "codemirror_mode": {
        "name": "ipython",
        "version": 3
      },
      "file_extension": ".py",
      "mimetype": "text/x-python",
      "name": "python",
      "nbconvert_exporter": "python",
      "pygments_lexer": "ipython3",
      "version": "3.11.9"
    }
  },
  "nbformat": 4,
  "nbformat_minor": 0
}